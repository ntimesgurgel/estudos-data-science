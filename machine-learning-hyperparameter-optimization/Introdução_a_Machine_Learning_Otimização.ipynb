{
  "cells": [
    {
      "cell_type": "code",
      "execution_count": 1,
      "metadata": {
        "colab": {},
        "colab_type": "code",
        "id": "y7ik04NlDZMA"
      },
      "outputs": [
        {
          "data": {
            "text/html": [
              "<div>\n",
              "<style scoped>\n",
              "    .dataframe tbody tr th:only-of-type {\n",
              "        vertical-align: middle;\n",
              "    }\n",
              "\n",
              "    .dataframe tbody tr th {\n",
              "        vertical-align: top;\n",
              "    }\n",
              "\n",
              "    .dataframe thead th {\n",
              "        text-align: right;\n",
              "    }\n",
              "</style>\n",
              "<table border=\"1\" class=\"dataframe\">\n",
              "  <thead>\n",
              "    <tr style=\"text-align: right;\">\n",
              "      <th></th>\n",
              "      <th>preco</th>\n",
              "      <th>vendido</th>\n",
              "      <th>idade_do_modelo</th>\n",
              "      <th>km_por_ano</th>\n",
              "    </tr>\n",
              "  </thead>\n",
              "  <tbody>\n",
              "    <tr>\n",
              "      <th>0</th>\n",
              "      <td>30941.02</td>\n",
              "      <td>1</td>\n",
              "      <td>18</td>\n",
              "      <td>35085.22134</td>\n",
              "    </tr>\n",
              "    <tr>\n",
              "      <th>1</th>\n",
              "      <td>40557.96</td>\n",
              "      <td>1</td>\n",
              "      <td>20</td>\n",
              "      <td>12622.05362</td>\n",
              "    </tr>\n",
              "    <tr>\n",
              "      <th>2</th>\n",
              "      <td>89627.50</td>\n",
              "      <td>0</td>\n",
              "      <td>12</td>\n",
              "      <td>11440.79806</td>\n",
              "    </tr>\n",
              "    <tr>\n",
              "      <th>3</th>\n",
              "      <td>95276.14</td>\n",
              "      <td>0</td>\n",
              "      <td>3</td>\n",
              "      <td>43167.32682</td>\n",
              "    </tr>\n",
              "    <tr>\n",
              "      <th>4</th>\n",
              "      <td>117384.68</td>\n",
              "      <td>1</td>\n",
              "      <td>4</td>\n",
              "      <td>12770.11290</td>\n",
              "    </tr>\n",
              "  </tbody>\n",
              "</table>\n",
              "</div>"
            ],
            "text/plain": [
              "       preco  vendido  idade_do_modelo   km_por_ano\n",
              "0   30941.02        1               18  35085.22134\n",
              "1   40557.96        1               20  12622.05362\n",
              "2   89627.50        0               12  11440.79806\n",
              "3   95276.14        0                3  43167.32682\n",
              "4  117384.68        1                4  12770.11290"
            ]
          },
          "execution_count": 1,
          "metadata": {},
          "output_type": "execute_result"
        }
      ],
      "source": [
        "import pandas as pd\n",
        "\n",
        "uri = \"https://gist.githubusercontent.com/guilhermesilveira/e99a526b2e7ccc6c3b70f53db43a87d2/raw/1605fc74aa778066bf2e6695e24d53cf65f2f447/machine-learning-carros-simulacao.csv\"\n",
        "dados = pd.read_csv(uri).drop(columns=[\"Unnamed: 0\"], axis=1)\n",
        "dados.head()"
      ]
    },
    {
      "cell_type": "code",
      "execution_count": null,
      "metadata": {},
      "outputs": [],
      "source": []
    },
    {
      "cell_type": "code",
      "execution_count": 2,
      "metadata": {
        "colab": {
          "base_uri": "https://localhost:8080/",
          "height": 204
        },
        "colab_type": "code",
        "id": "b52E4e1hjegN",
        "outputId": "97420810-da24-4bd7-8b8d-242c06aa220a"
      },
      "outputs": [
        {
          "data": {
            "text/html": [
              "<div>\n",
              "<style scoped>\n",
              "    .dataframe tbody tr th:only-of-type {\n",
              "        vertical-align: middle;\n",
              "    }\n",
              "\n",
              "    .dataframe tbody tr th {\n",
              "        vertical-align: top;\n",
              "    }\n",
              "\n",
              "    .dataframe thead th {\n",
              "        text-align: right;\n",
              "    }\n",
              "</style>\n",
              "<table border=\"1\" class=\"dataframe\">\n",
              "  <thead>\n",
              "    <tr style=\"text-align: right;\">\n",
              "      <th></th>\n",
              "      <th>preco</th>\n",
              "      <th>vendido</th>\n",
              "      <th>idade_do_modelo</th>\n",
              "      <th>km_por_ano</th>\n",
              "    </tr>\n",
              "  </thead>\n",
              "  <tbody>\n",
              "    <tr>\n",
              "      <th>4999</th>\n",
              "      <td>74023.29</td>\n",
              "      <td>0</td>\n",
              "      <td>12</td>\n",
              "      <td>24812.80412</td>\n",
              "    </tr>\n",
              "    <tr>\n",
              "      <th>5322</th>\n",
              "      <td>84843.49</td>\n",
              "      <td>0</td>\n",
              "      <td>13</td>\n",
              "      <td>23095.63834</td>\n",
              "    </tr>\n",
              "    <tr>\n",
              "      <th>5319</th>\n",
              "      <td>83100.27</td>\n",
              "      <td>0</td>\n",
              "      <td>19</td>\n",
              "      <td>36240.72746</td>\n",
              "    </tr>\n",
              "    <tr>\n",
              "      <th>5316</th>\n",
              "      <td>87932.13</td>\n",
              "      <td>0</td>\n",
              "      <td>16</td>\n",
              "      <td>32249.56426</td>\n",
              "    </tr>\n",
              "    <tr>\n",
              "      <th>5315</th>\n",
              "      <td>77937.01</td>\n",
              "      <td>0</td>\n",
              "      <td>15</td>\n",
              "      <td>28414.50704</td>\n",
              "    </tr>\n",
              "  </tbody>\n",
              "</table>\n",
              "</div>"
            ],
            "text/plain": [
              "         preco  vendido  idade_do_modelo   km_por_ano\n",
              "4999  74023.29        0               12  24812.80412\n",
              "5322  84843.49        0               13  23095.63834\n",
              "5319  83100.27        0               19  36240.72746\n",
              "5316  87932.13        0               16  32249.56426\n",
              "5315  77937.01        0               15  28414.50704"
            ]
          },
          "execution_count": 2,
          "metadata": {},
          "output_type": "execute_result"
        }
      ],
      "source": [
        "# situação horrível de \"azar\" onde as classes estão ordenadas por padrão\n",
        "\n",
        "dados_azar = dados.sort_values(\"vendido\", ascending=True)\n",
        "x_azar = dados_azar[[\"preco\", \"idade_do_modelo\",\"km_por_ano\"]]\n",
        "y_azar = dados_azar[\"vendido\"]\n",
        "dados_azar.head()"
      ]
    },
    {
      "cell_type": "code",
      "execution_count": 3,
      "metadata": {
        "colab": {},
        "colab_type": "code",
        "id": "ZNT26vFEeYmz"
      },
      "outputs": [
        {
          "name": "stdout",
          "output_type": "stream",
          "text": [
            "Accuracy com dummy stratified, 10 = [58.00, 58.00]\n"
          ]
        }
      ],
      "source": [
        "from sklearn.model_selection import cross_validate\n",
        "from sklearn.dummy import DummyClassifier\n",
        "import numpy as np\n",
        "\n",
        "SEED = 301\n",
        "np.random.seed(SEED)\n",
        "\n",
        "modelo = DummyClassifier()\n",
        "results = cross_validate(modelo, x_azar, y_azar, cv = 10, return_train_score=False)\n",
        "media = results['test_score'].mean()\n",
        "desvio_padrao = results['test_score'].std()\n",
        "print(\"Accuracy com dummy stratified, 10 = [%.2f, %.2f]\" % ((media - 2 * desvio_padrao)*100, (media + 2 * desvio_padrao) * 100))"
      ]
    },
    {
      "cell_type": "code",
      "execution_count": 4,
      "metadata": {
        "colab": {},
        "colab_type": "code",
        "id": "73mCcFA_eG_K"
      },
      "outputs": [
        {
          "name": "stdout",
          "output_type": "stream",
          "text": [
            "Accuracy com cross validation, 10 = [73.83, 77.73]\n"
          ]
        }
      ],
      "source": [
        "from sklearn.model_selection import cross_validate\n",
        "from sklearn.tree import DecisionTreeClassifier\n",
        "\n",
        "SEED = 301\n",
        "np.random.seed(SEED)\n",
        "\n",
        "modelo = DecisionTreeClassifier(max_depth=2)\n",
        "results = cross_validate(modelo, x_azar, y_azar, cv = 10, return_train_score=False)\n",
        "media = results['test_score'].mean()\n",
        "desvio_padrao = results['test_score'].std()\n",
        "print(\"Accuracy com cross validation, 10 = [%.2f, %.2f]\" % ((media - 2 * desvio_padrao)*100, (media + 2 * desvio_padrao) * 100))"
      ]
    },
    {
      "cell_type": "code",
      "execution_count": 5,
      "metadata": {
        "colab": {},
        "colab_type": "code",
        "id": "5C8Y6J-PGpYf"
      },
      "outputs": [
        {
          "data": {
            "text/html": [
              "<div>\n",
              "<style scoped>\n",
              "    .dataframe tbody tr th:only-of-type {\n",
              "        vertical-align: middle;\n",
              "    }\n",
              "\n",
              "    .dataframe tbody tr th {\n",
              "        vertical-align: top;\n",
              "    }\n",
              "\n",
              "    .dataframe thead th {\n",
              "        text-align: right;\n",
              "    }\n",
              "</style>\n",
              "<table border=\"1\" class=\"dataframe\">\n",
              "  <thead>\n",
              "    <tr style=\"text-align: right;\">\n",
              "      <th></th>\n",
              "      <th>preco</th>\n",
              "      <th>vendido</th>\n",
              "      <th>idade_do_modelo</th>\n",
              "      <th>km_por_ano</th>\n",
              "      <th>modelo</th>\n",
              "    </tr>\n",
              "  </thead>\n",
              "  <tbody>\n",
              "    <tr>\n",
              "      <th>0</th>\n",
              "      <td>30941.02</td>\n",
              "      <td>1</td>\n",
              "      <td>18</td>\n",
              "      <td>35085.22134</td>\n",
              "      <td>18</td>\n",
              "    </tr>\n",
              "    <tr>\n",
              "      <th>1</th>\n",
              "      <td>40557.96</td>\n",
              "      <td>1</td>\n",
              "      <td>20</td>\n",
              "      <td>12622.05362</td>\n",
              "      <td>24</td>\n",
              "    </tr>\n",
              "    <tr>\n",
              "      <th>2</th>\n",
              "      <td>89627.50</td>\n",
              "      <td>0</td>\n",
              "      <td>12</td>\n",
              "      <td>11440.79806</td>\n",
              "      <td>14</td>\n",
              "    </tr>\n",
              "    <tr>\n",
              "      <th>3</th>\n",
              "      <td>95276.14</td>\n",
              "      <td>0</td>\n",
              "      <td>3</td>\n",
              "      <td>43167.32682</td>\n",
              "      <td>6</td>\n",
              "    </tr>\n",
              "    <tr>\n",
              "      <th>4</th>\n",
              "      <td>117384.68</td>\n",
              "      <td>1</td>\n",
              "      <td>4</td>\n",
              "      <td>12770.11290</td>\n",
              "      <td>5</td>\n",
              "    </tr>\n",
              "  </tbody>\n",
              "</table>\n",
              "</div>"
            ],
            "text/plain": [
              "       preco  vendido  idade_do_modelo   km_por_ano  modelo\n",
              "0   30941.02        1               18  35085.22134      18\n",
              "1   40557.96        1               20  12622.05362      24\n",
              "2   89627.50        0               12  11440.79806      14\n",
              "3   95276.14        0                3  43167.32682       6\n",
              "4  117384.68        1                4  12770.11290       5"
            ]
          },
          "execution_count": 5,
          "metadata": {},
          "output_type": "execute_result"
        }
      ],
      "source": [
        "# gerando dados elatorios de modelo de carro para simulacao de agrupamento ao usar nosso estimador\n",
        "\n",
        "np.random.seed(SEED)\n",
        "dados['modelo'] = dados.idade_do_modelo + np.random.randint(-2, 3, size=10000)\n",
        "dados.modelo = dados.modelo + abs(dados.modelo.min()) + 1\n",
        "dados.head()"
      ]
    },
    {
      "cell_type": "code",
      "execution_count": 6,
      "metadata": {
        "colab": {},
        "colab_type": "code",
        "id": "3hmjt7qPHOZY"
      },
      "outputs": [],
      "source": [
        "def imprime_resultados(results):\n",
        "  media = results['test_score'].mean() * 100\n",
        "  desvio = results['test_score'].std() * 100\n",
        "  print(\"Accuracy médio %.2f\" % media)\n",
        "  print(\"Intervalo [%.2f, %.2f]\" % (media - 2 * desvio, media + 2 * desvio))"
      ]
    },
    {
      "cell_type": "code",
      "execution_count": 7,
      "metadata": {
        "colab": {},
        "colab_type": "code",
        "id": "IKD8uaWkNcUL"
      },
      "outputs": [
        {
          "name": "stdout",
          "output_type": "stream",
          "text": [
            "Accuracy médio 75.78\n",
            "Intervalo [73.67, 77.90]\n"
          ]
        }
      ],
      "source": [
        "# GroupKFold para analisar como o modelo se comporta com novos grupos\n",
        "\n",
        "from sklearn.model_selection import GroupKFold\n",
        "\n",
        "SEED = 301\n",
        "np.random.seed(SEED)\n",
        "\n",
        "cv = GroupKFold(n_splits = 10)\n",
        "modelo = DecisionTreeClassifier(max_depth=2)\n",
        "results = cross_validate(modelo, x_azar, y_azar, cv = cv, groups = dados.modelo, return_train_score=False)\n",
        "imprime_resultados(results)"
      ]
    },
    {
      "cell_type": "code",
      "execution_count": 10,
      "metadata": {},
      "outputs": [
        {
          "data": {
            "image/svg+xml": "<?xml version=\"1.0\" encoding=\"UTF-8\" standalone=\"no\"?>\n<!DOCTYPE svg PUBLIC \"-//W3C//DTD SVG 1.1//EN\"\n \"http://www.w3.org/Graphics/SVG/1.1/DTD/svg11.dtd\">\n<!-- Generated by graphviz version 4.0.0 (0)\n -->\n<!-- Title: Tree Pages: 1 -->\n<svg width=\"696pt\" height=\"314pt\"\n viewBox=\"0.00 0.00 696.00 314.00\" xmlns=\"http://www.w3.org/2000/svg\" xmlns:xlink=\"http://www.w3.org/1999/xlink\">\n<g id=\"graph0\" class=\"graph\" transform=\"scale(1 1) rotate(0) translate(4 310)\">\n<title>Tree</title>\n<polygon fill=\"white\" stroke=\"transparent\" points=\"-4,4 -4,-310 692,-310 692,4 -4,4\"/>\n<!-- 0 -->\n<g id=\"node1\" class=\"node\">\n<title>0</title>\n<path fill=\"#c8e4f8\" stroke=\"black\" d=\"M403.5,-306C403.5,-306 260.5,-306 260.5,-306 254.5,-306 248.5,-300 248.5,-294 248.5,-294 248.5,-235 248.5,-235 248.5,-229 254.5,-223 260.5,-223 260.5,-223 403.5,-223 403.5,-223 409.5,-223 415.5,-229 415.5,-235 415.5,-235 415.5,-294 415.5,-294 415.5,-300 409.5,-306 403.5,-306\"/>\n<text text-anchor=\"middle\" x=\"332\" y=\"-290.8\" font-family=\"Helvetica,sans-Serif\" font-size=\"14.00\">preco &lt;= 59982.246</text>\n<text text-anchor=\"middle\" x=\"332\" y=\"-275.8\" font-family=\"Helvetica,sans-Serif\" font-size=\"14.00\">gini = 0.487</text>\n<text text-anchor=\"middle\" x=\"332\" y=\"-260.8\" font-family=\"Helvetica,sans-Serif\" font-size=\"14.00\">samples = 10000</text>\n<text text-anchor=\"middle\" x=\"332\" y=\"-245.8\" font-family=\"Helvetica,sans-Serif\" font-size=\"14.00\">value = [4200, 5800]</text>\n<text text-anchor=\"middle\" x=\"332\" y=\"-230.8\" font-family=\"Helvetica,sans-Serif\" font-size=\"14.00\">class = sim</text>\n</g>\n<!-- 1 -->\n<g id=\"node2\" class=\"node\">\n<title>1</title>\n<path fill=\"#52a9e8\" stroke=\"black\" d=\"M300,-187C300,-187 160,-187 160,-187 154,-187 148,-181 148,-175 148,-175 148,-116 148,-116 148,-110 154,-104 160,-104 160,-104 300,-104 300,-104 306,-104 312,-110 312,-116 312,-116 312,-175 312,-175 312,-181 306,-187 300,-187\"/>\n<text text-anchor=\"middle\" x=\"230\" y=\"-171.8\" font-family=\"Helvetica,sans-Serif\" font-size=\"14.00\">preco &lt;= 40083.385</text>\n<text text-anchor=\"middle\" x=\"230\" y=\"-156.8\" font-family=\"Helvetica,sans-Serif\" font-size=\"14.00\">gini = 0.198</text>\n<text text-anchor=\"middle\" x=\"230\" y=\"-141.8\" font-family=\"Helvetica,sans-Serif\" font-size=\"14.00\">samples = 4347</text>\n<text text-anchor=\"middle\" x=\"230\" y=\"-126.8\" font-family=\"Helvetica,sans-Serif\" font-size=\"14.00\">value = [484, 3863]</text>\n<text text-anchor=\"middle\" x=\"230\" y=\"-111.8\" font-family=\"Helvetica,sans-Serif\" font-size=\"14.00\">class = sim</text>\n</g>\n<!-- 0&#45;&gt;1 -->\n<g id=\"edge1\" class=\"edge\">\n<title>0&#45;&gt;1</title>\n<path fill=\"none\" stroke=\"black\" d=\"M296.61,-222.91C288.7,-213.83 280.23,-204.12 272.08,-194.77\"/>\n<polygon fill=\"black\" stroke=\"black\" points=\"274.54,-192.26 265.33,-187.02 269.26,-196.86 274.54,-192.26\"/>\n<text text-anchor=\"middle\" x=\"263.62\" y=\"-208.26\" font-family=\"Helvetica,sans-Serif\" font-size=\"14.00\">True</text>\n</g>\n<!-- 4 -->\n<g id=\"node5\" class=\"node\">\n<title>4</title>\n<path fill=\"#f3c3a0\" stroke=\"black\" d=\"M528,-187C528,-187 342,-187 342,-187 336,-187 330,-181 330,-175 330,-175 330,-116 330,-116 330,-110 336,-104 342,-104 342,-104 528,-104 528,-104 534,-104 540,-110 540,-116 540,-116 540,-175 540,-175 540,-181 534,-187 528,-187\"/>\n<text text-anchor=\"middle\" x=\"435\" y=\"-171.8\" font-family=\"Helvetica,sans-Serif\" font-size=\"14.00\">km_por_ano &lt;= 24124.006</text>\n<text text-anchor=\"middle\" x=\"435\" y=\"-156.8\" font-family=\"Helvetica,sans-Serif\" font-size=\"14.00\">gini = 0.45</text>\n<text text-anchor=\"middle\" x=\"435\" y=\"-141.8\" font-family=\"Helvetica,sans-Serif\" font-size=\"14.00\">samples = 5653</text>\n<text text-anchor=\"middle\" x=\"435\" y=\"-126.8\" font-family=\"Helvetica,sans-Serif\" font-size=\"14.00\">value = [3716, 1937]</text>\n<text text-anchor=\"middle\" x=\"435\" y=\"-111.8\" font-family=\"Helvetica,sans-Serif\" font-size=\"14.00\">class = não</text>\n</g>\n<!-- 0&#45;&gt;4 -->\n<g id=\"edge4\" class=\"edge\">\n<title>0&#45;&gt;4</title>\n<path fill=\"none\" stroke=\"black\" d=\"M367.74,-222.91C375.72,-213.83 384.27,-204.12 392.51,-194.77\"/>\n<polygon fill=\"black\" stroke=\"black\" points=\"395.35,-196.84 399.33,-187.02 390.09,-192.21 395.35,-196.84\"/>\n<text text-anchor=\"middle\" x=\"400.92\" y=\"-208.27\" font-family=\"Helvetica,sans-Serif\" font-size=\"14.00\">False</text>\n</g>\n<!-- 2 -->\n<g id=\"node3\" class=\"node\">\n<title>2</title>\n<path fill=\"#399de5\" stroke=\"black\" d=\"M128,-68C128,-68 12,-68 12,-68 6,-68 0,-62 0,-56 0,-56 0,-12 0,-12 0,-6 6,0 12,0 12,0 128,0 128,0 134,0 140,-6 140,-12 140,-12 140,-56 140,-56 140,-62 134,-68 128,-68\"/>\n<text text-anchor=\"middle\" x=\"70\" y=\"-52.8\" font-family=\"Helvetica,sans-Serif\" font-size=\"14.00\">gini = 0.0</text>\n<text text-anchor=\"middle\" x=\"70\" y=\"-37.8\" font-family=\"Helvetica,sans-Serif\" font-size=\"14.00\">samples = 1935</text>\n<text text-anchor=\"middle\" x=\"70\" y=\"-22.8\" font-family=\"Helvetica,sans-Serif\" font-size=\"14.00\">value = [0, 1935]</text>\n<text text-anchor=\"middle\" x=\"70\" y=\"-7.8\" font-family=\"Helvetica,sans-Serif\" font-size=\"14.00\">class = sim</text>\n</g>\n<!-- 1&#45;&gt;2 -->\n<g id=\"edge2\" class=\"edge\">\n<title>1&#45;&gt;2</title>\n<path fill=\"none\" stroke=\"black\" d=\"M170.42,-103.73C156.22,-94.01 141.1,-83.66 127.02,-74.02\"/>\n<polygon fill=\"black\" stroke=\"black\" points=\"128.63,-70.88 118.4,-68.13 124.68,-76.66 128.63,-70.88\"/>\n</g>\n<!-- 3 -->\n<g id=\"node4\" class=\"node\">\n<title>3</title>\n<path fill=\"#6bb6ec\" stroke=\"black\" d=\"M304,-68C304,-68 170,-68 170,-68 164,-68 158,-62 158,-56 158,-56 158,-12 158,-12 158,-6 164,0 170,0 170,0 304,0 304,0 310,0 316,-6 316,-12 316,-12 316,-56 316,-56 316,-62 310,-68 304,-68\"/>\n<text text-anchor=\"middle\" x=\"237\" y=\"-52.8\" font-family=\"Helvetica,sans-Serif\" font-size=\"14.00\">gini = 0.321</text>\n<text text-anchor=\"middle\" x=\"237\" y=\"-37.8\" font-family=\"Helvetica,sans-Serif\" font-size=\"14.00\">samples = 2412</text>\n<text text-anchor=\"middle\" x=\"237\" y=\"-22.8\" font-family=\"Helvetica,sans-Serif\" font-size=\"14.00\">value = [484, 1928]</text>\n<text text-anchor=\"middle\" x=\"237\" y=\"-7.8\" font-family=\"Helvetica,sans-Serif\" font-size=\"14.00\">class = sim</text>\n</g>\n<!-- 1&#45;&gt;3 -->\n<g id=\"edge3\" class=\"edge\">\n<title>1&#45;&gt;3</title>\n<path fill=\"none\" stroke=\"black\" d=\"M232.61,-103.73C233.14,-95.43 233.7,-86.67 234.23,-78.28\"/>\n<polygon fill=\"black\" stroke=\"black\" points=\"237.73,-78.5 234.87,-68.3 230.74,-78.06 237.73,-78.5\"/>\n</g>\n<!-- 5 -->\n<g id=\"node6\" class=\"node\">\n<title>5</title>\n<path fill=\"#fcefe5\" stroke=\"black\" d=\"M500.5,-68C500.5,-68 357.5,-68 357.5,-68 351.5,-68 345.5,-62 345.5,-56 345.5,-56 345.5,-12 345.5,-12 345.5,-6 351.5,0 357.5,0 357.5,0 500.5,0 500.5,0 506.5,0 512.5,-6 512.5,-12 512.5,-12 512.5,-56 512.5,-56 512.5,-62 506.5,-68 500.5,-68\"/>\n<text text-anchor=\"middle\" x=\"429\" y=\"-52.8\" font-family=\"Helvetica,sans-Serif\" font-size=\"14.00\">gini = 0.498</text>\n<text text-anchor=\"middle\" x=\"429\" y=\"-37.8\" font-family=\"Helvetica,sans-Serif\" font-size=\"14.00\">samples = 3513</text>\n<text text-anchor=\"middle\" x=\"429\" y=\"-22.8\" font-family=\"Helvetica,sans-Serif\" font-size=\"14.00\">value = [1879, 1634]</text>\n<text text-anchor=\"middle\" x=\"429\" y=\"-7.8\" font-family=\"Helvetica,sans-Serif\" font-size=\"14.00\">class = não</text>\n</g>\n<!-- 4&#45;&gt;5 -->\n<g id=\"edge5\" class=\"edge\">\n<title>4&#45;&gt;5</title>\n<path fill=\"none\" stroke=\"black\" d=\"M432.77,-103.73C432.32,-95.52 431.84,-86.86 431.39,-78.56\"/>\n<polygon fill=\"black\" stroke=\"black\" points=\"434.87,-78.09 430.82,-68.3 427.88,-78.48 434.87,-78.09\"/>\n</g>\n<!-- 6 -->\n<g id=\"node7\" class=\"node\">\n<title>6</title>\n<path fill=\"#e9965a\" stroke=\"black\" d=\"M676,-68C676,-68 542,-68 542,-68 536,-68 530,-62 530,-56 530,-56 530,-12 530,-12 530,-6 536,0 542,0 542,0 676,0 676,0 682,0 688,-6 688,-12 688,-12 688,-56 688,-56 688,-62 682,-68 676,-68\"/>\n<text text-anchor=\"middle\" x=\"609\" y=\"-52.8\" font-family=\"Helvetica,sans-Serif\" font-size=\"14.00\">gini = 0.243</text>\n<text text-anchor=\"middle\" x=\"609\" y=\"-37.8\" font-family=\"Helvetica,sans-Serif\" font-size=\"14.00\">samples = 2140</text>\n<text text-anchor=\"middle\" x=\"609\" y=\"-22.8\" font-family=\"Helvetica,sans-Serif\" font-size=\"14.00\">value = [1837, 303]</text>\n<text text-anchor=\"middle\" x=\"609\" y=\"-7.8\" font-family=\"Helvetica,sans-Serif\" font-size=\"14.00\">class = não</text>\n</g>\n<!-- 4&#45;&gt;6 -->\n<g id=\"edge6\" class=\"edge\">\n<title>4&#45;&gt;6</title>\n<path fill=\"none\" stroke=\"black\" d=\"M499.79,-103.73C515.53,-93.82 532.3,-83.27 547.86,-73.48\"/>\n<polygon fill=\"black\" stroke=\"black\" points=\"549.76,-76.41 556.36,-68.13 546.03,-70.49 549.76,-76.41\"/>\n</g>\n</g>\n</svg>\n",
            "text/plain": [
              "<graphviz.sources.Source at 0x7fd8e3a93e50>"
            ]
          },
          "execution_count": 10,
          "metadata": {},
          "output_type": "execute_result"
        }
      ],
      "source": [
        "import graphviz\n",
        "from sklearn.tree import export_graphviz\n",
        "\n",
        "modelo.fit(x_azar,y_azar)\n",
        "\n",
        "features = x_azar.columns\n",
        "dot_data = export_graphviz(modelo, out_file=None, filled=True, rounded=True, class_names=['não','sim'], feature_names = features)\n",
        "graph = graphviz.Source(dot_data)\n",
        "graph"
      ]
    },
    {
      "cell_type": "code",
      "execution_count": 11,
      "metadata": {},
      "outputs": [
        {
          "name": "stdout",
          "output_type": "stream",
          "text": [
            "Accuracy médio 78.67\n",
            "Intervalo [76.40, 80.94]\n"
          ]
        }
      ],
      "source": [
        "# GroupKFold para analisar como o modelo se comporta com novos grupos\n",
        "\n",
        "from sklearn.model_selection import GroupKFold\n",
        "\n",
        "SEED = 301\n",
        "np.random.seed(SEED)\n",
        "\n",
        "cv = GroupKFold(n_splits = 10)\n",
        "modelo = DecisionTreeClassifier(max_depth=3)\n",
        "results = cross_validate(modelo, x_azar, y_azar, cv = cv, groups = dados.modelo, return_train_score=False)\n",
        "imprime_resultados(results)"
      ]
    },
    {
      "cell_type": "code",
      "execution_count": 13,
      "metadata": {},
      "outputs": [
        {
          "data": {
            "image/svg+xml": "<?xml version=\"1.0\" encoding=\"UTF-8\" standalone=\"no\"?>\n<!DOCTYPE svg PUBLIC \"-//W3C//DTD SVG 1.1//EN\"\n \"http://www.w3.org/Graphics/SVG/1.1/DTD/svg11.dtd\">\n<!-- Generated by graphviz version 4.0.0 (0)\n -->\n<!-- Title: Tree Pages: 1 -->\n<svg width=\"1013pt\" height=\"433pt\"\n viewBox=\"0.00 0.00 1012.50 433.00\" xmlns=\"http://www.w3.org/2000/svg\" xmlns:xlink=\"http://www.w3.org/1999/xlink\">\n<g id=\"graph0\" class=\"graph\" transform=\"scale(1 1) rotate(0) translate(4 429)\">\n<title>Tree</title>\n<polygon fill=\"white\" stroke=\"transparent\" points=\"-4,4 -4,-429 1008.5,-429 1008.5,4 -4,4\"/>\n<!-- 0 -->\n<g id=\"node1\" class=\"node\">\n<title>0</title>\n<path fill=\"#c8e4f8\" stroke=\"black\" d=\"M413.5,-425C413.5,-425 270.5,-425 270.5,-425 264.5,-425 258.5,-419 258.5,-413 258.5,-413 258.5,-354 258.5,-354 258.5,-348 264.5,-342 270.5,-342 270.5,-342 413.5,-342 413.5,-342 419.5,-342 425.5,-348 425.5,-354 425.5,-354 425.5,-413 425.5,-413 425.5,-419 419.5,-425 413.5,-425\"/>\n<text text-anchor=\"middle\" x=\"342\" y=\"-409.8\" font-family=\"Helvetica,sans-Serif\" font-size=\"14.00\">preco &lt;= 59982.246</text>\n<text text-anchor=\"middle\" x=\"342\" y=\"-394.8\" font-family=\"Helvetica,sans-Serif\" font-size=\"14.00\">gini = 0.487</text>\n<text text-anchor=\"middle\" x=\"342\" y=\"-379.8\" font-family=\"Helvetica,sans-Serif\" font-size=\"14.00\">samples = 10000</text>\n<text text-anchor=\"middle\" x=\"342\" y=\"-364.8\" font-family=\"Helvetica,sans-Serif\" font-size=\"14.00\">value = [4200, 5800]</text>\n<text text-anchor=\"middle\" x=\"342\" y=\"-349.8\" font-family=\"Helvetica,sans-Serif\" font-size=\"14.00\">class = sim</text>\n</g>\n<!-- 1 -->\n<g id=\"node2\" class=\"node\">\n<title>1</title>\n<path fill=\"#52a9e8\" stroke=\"black\" d=\"M310,-306C310,-306 170,-306 170,-306 164,-306 158,-300 158,-294 158,-294 158,-235 158,-235 158,-229 164,-223 170,-223 170,-223 310,-223 310,-223 316,-223 322,-229 322,-235 322,-235 322,-294 322,-294 322,-300 316,-306 310,-306\"/>\n<text text-anchor=\"middle\" x=\"240\" y=\"-290.8\" font-family=\"Helvetica,sans-Serif\" font-size=\"14.00\">preco &lt;= 40083.385</text>\n<text text-anchor=\"middle\" x=\"240\" y=\"-275.8\" font-family=\"Helvetica,sans-Serif\" font-size=\"14.00\">gini = 0.198</text>\n<text text-anchor=\"middle\" x=\"240\" y=\"-260.8\" font-family=\"Helvetica,sans-Serif\" font-size=\"14.00\">samples = 4347</text>\n<text text-anchor=\"middle\" x=\"240\" y=\"-245.8\" font-family=\"Helvetica,sans-Serif\" font-size=\"14.00\">value = [484, 3863]</text>\n<text text-anchor=\"middle\" x=\"240\" y=\"-230.8\" font-family=\"Helvetica,sans-Serif\" font-size=\"14.00\">class = sim</text>\n</g>\n<!-- 0&#45;&gt;1 -->\n<g id=\"edge1\" class=\"edge\">\n<title>0&#45;&gt;1</title>\n<path fill=\"none\" stroke=\"black\" d=\"M306.61,-341.91C298.7,-332.83 290.23,-323.12 282.08,-313.77\"/>\n<polygon fill=\"black\" stroke=\"black\" points=\"284.54,-311.26 275.33,-306.02 279.26,-315.86 284.54,-311.26\"/>\n<text text-anchor=\"middle\" x=\"273.62\" y=\"-327.26\" font-family=\"Helvetica,sans-Serif\" font-size=\"14.00\">True</text>\n</g>\n<!-- 6 -->\n<g id=\"node7\" class=\"node\">\n<title>6</title>\n<path fill=\"#f3c3a0\" stroke=\"black\" d=\"M603,-306C603,-306 417,-306 417,-306 411,-306 405,-300 405,-294 405,-294 405,-235 405,-235 405,-229 411,-223 417,-223 417,-223 603,-223 603,-223 609,-223 615,-229 615,-235 615,-235 615,-294 615,-294 615,-300 609,-306 603,-306\"/>\n<text text-anchor=\"middle\" x=\"510\" y=\"-290.8\" font-family=\"Helvetica,sans-Serif\" font-size=\"14.00\">km_por_ano &lt;= 24124.006</text>\n<text text-anchor=\"middle\" x=\"510\" y=\"-275.8\" font-family=\"Helvetica,sans-Serif\" font-size=\"14.00\">gini = 0.45</text>\n<text text-anchor=\"middle\" x=\"510\" y=\"-260.8\" font-family=\"Helvetica,sans-Serif\" font-size=\"14.00\">samples = 5653</text>\n<text text-anchor=\"middle\" x=\"510\" y=\"-245.8\" font-family=\"Helvetica,sans-Serif\" font-size=\"14.00\">value = [3716, 1937]</text>\n<text text-anchor=\"middle\" x=\"510\" y=\"-230.8\" font-family=\"Helvetica,sans-Serif\" font-size=\"14.00\">class = não</text>\n</g>\n<!-- 0&#45;&gt;6 -->\n<g id=\"edge6\" class=\"edge\">\n<title>0&#45;&gt;6</title>\n<path fill=\"none\" stroke=\"black\" d=\"M400.29,-341.91C414.23,-332.2 429.22,-321.76 443.5,-311.81\"/>\n<polygon fill=\"black\" stroke=\"black\" points=\"445.61,-314.61 451.82,-306.02 441.61,-308.86 445.61,-314.61\"/>\n<text text-anchor=\"middle\" x=\"447.41\" y=\"-326.93\" font-family=\"Helvetica,sans-Serif\" font-size=\"14.00\">False</text>\n</g>\n<!-- 2 -->\n<g id=\"node3\" class=\"node\">\n<title>2</title>\n<path fill=\"#399de5\" stroke=\"black\" d=\"M128,-179.5C128,-179.5 12,-179.5 12,-179.5 6,-179.5 0,-173.5 0,-167.5 0,-167.5 0,-123.5 0,-123.5 0,-117.5 6,-111.5 12,-111.5 12,-111.5 128,-111.5 128,-111.5 134,-111.5 140,-117.5 140,-123.5 140,-123.5 140,-167.5 140,-167.5 140,-173.5 134,-179.5 128,-179.5\"/>\n<text text-anchor=\"middle\" x=\"70\" y=\"-164.3\" font-family=\"Helvetica,sans-Serif\" font-size=\"14.00\">gini = 0.0</text>\n<text text-anchor=\"middle\" x=\"70\" y=\"-149.3\" font-family=\"Helvetica,sans-Serif\" font-size=\"14.00\">samples = 1935</text>\n<text text-anchor=\"middle\" x=\"70\" y=\"-134.3\" font-family=\"Helvetica,sans-Serif\" font-size=\"14.00\">value = [0, 1935]</text>\n<text text-anchor=\"middle\" x=\"70\" y=\"-119.3\" font-family=\"Helvetica,sans-Serif\" font-size=\"14.00\">class = sim</text>\n</g>\n<!-- 1&#45;&gt;2 -->\n<g id=\"edge2\" class=\"edge\">\n<title>1&#45;&gt;2</title>\n<path fill=\"none\" stroke=\"black\" d=\"M181.02,-222.91C163.38,-210.77 144.09,-197.49 126.61,-185.46\"/>\n<polygon fill=\"black\" stroke=\"black\" points=\"128.41,-182.45 118.19,-179.67 124.44,-188.22 128.41,-182.45\"/>\n</g>\n<!-- 3 -->\n<g id=\"node4\" class=\"node\">\n<title>3</title>\n<path fill=\"#6bb6ec\" stroke=\"black\" d=\"M310,-187C310,-187 170,-187 170,-187 164,-187 158,-181 158,-175 158,-175 158,-116 158,-116 158,-110 164,-104 170,-104 170,-104 310,-104 310,-104 316,-104 322,-110 322,-116 322,-116 322,-175 322,-175 322,-181 316,-187 310,-187\"/>\n<text text-anchor=\"middle\" x=\"240\" y=\"-171.8\" font-family=\"Helvetica,sans-Serif\" font-size=\"14.00\">preco &lt;= 41083.029</text>\n<text text-anchor=\"middle\" x=\"240\" y=\"-156.8\" font-family=\"Helvetica,sans-Serif\" font-size=\"14.00\">gini = 0.321</text>\n<text text-anchor=\"middle\" x=\"240\" y=\"-141.8\" font-family=\"Helvetica,sans-Serif\" font-size=\"14.00\">samples = 2412</text>\n<text text-anchor=\"middle\" x=\"240\" y=\"-126.8\" font-family=\"Helvetica,sans-Serif\" font-size=\"14.00\">value = [484, 1928]</text>\n<text text-anchor=\"middle\" x=\"240\" y=\"-111.8\" font-family=\"Helvetica,sans-Serif\" font-size=\"14.00\">class = sim</text>\n</g>\n<!-- 1&#45;&gt;3 -->\n<g id=\"edge3\" class=\"edge\">\n<title>1&#45;&gt;3</title>\n<path fill=\"none\" stroke=\"black\" d=\"M240,-222.91C240,-214.65 240,-205.86 240,-197.3\"/>\n<polygon fill=\"black\" stroke=\"black\" points=\"243.5,-197.02 240,-187.02 236.5,-197.02 243.5,-197.02\"/>\n</g>\n<!-- 4 -->\n<g id=\"node5\" class=\"node\">\n<title>4</title>\n<path fill=\"#95cbf1\" stroke=\"black\" d=\"M130.5,-68C130.5,-68 23.5,-68 23.5,-68 17.5,-68 11.5,-62 11.5,-56 11.5,-56 11.5,-12 11.5,-12 11.5,-6 17.5,0 23.5,0 23.5,0 130.5,0 130.5,0 136.5,0 142.5,-6 142.5,-12 142.5,-12 142.5,-56 142.5,-56 142.5,-62 136.5,-68 130.5,-68\"/>\n<text text-anchor=\"middle\" x=\"77\" y=\"-52.8\" font-family=\"Helvetica,sans-Serif\" font-size=\"14.00\">gini = 0.434</text>\n<text text-anchor=\"middle\" x=\"77\" y=\"-37.8\" font-family=\"Helvetica,sans-Serif\" font-size=\"14.00\">samples = 110</text>\n<text text-anchor=\"middle\" x=\"77\" y=\"-22.8\" font-family=\"Helvetica,sans-Serif\" font-size=\"14.00\">value = [35, 75]</text>\n<text text-anchor=\"middle\" x=\"77\" y=\"-7.8\" font-family=\"Helvetica,sans-Serif\" font-size=\"14.00\">class = sim</text>\n</g>\n<!-- 3&#45;&gt;4 -->\n<g id=\"edge4\" class=\"edge\">\n<title>3&#45;&gt;4</title>\n<path fill=\"none\" stroke=\"black\" d=\"M179.3,-103.73C164.7,-93.92 149.14,-83.46 134.68,-73.75\"/>\n<polygon fill=\"black\" stroke=\"black\" points=\"136.56,-70.8 126.31,-68.13 132.66,-76.61 136.56,-70.8\"/>\n</g>\n<!-- 5 -->\n<g id=\"node6\" class=\"node\">\n<title>5</title>\n<path fill=\"#69b5eb\" stroke=\"black\" d=\"M307,-68C307,-68 173,-68 173,-68 167,-68 161,-62 161,-56 161,-56 161,-12 161,-12 161,-6 167,0 173,0 173,0 307,0 307,0 313,0 319,-6 319,-12 319,-12 319,-56 319,-56 319,-62 313,-68 307,-68\"/>\n<text text-anchor=\"middle\" x=\"240\" y=\"-52.8\" font-family=\"Helvetica,sans-Serif\" font-size=\"14.00\">gini = 0.314</text>\n<text text-anchor=\"middle\" x=\"240\" y=\"-37.8\" font-family=\"Helvetica,sans-Serif\" font-size=\"14.00\">samples = 2302</text>\n<text text-anchor=\"middle\" x=\"240\" y=\"-22.8\" font-family=\"Helvetica,sans-Serif\" font-size=\"14.00\">value = [449, 1853]</text>\n<text text-anchor=\"middle\" x=\"240\" y=\"-7.8\" font-family=\"Helvetica,sans-Serif\" font-size=\"14.00\">class = sim</text>\n</g>\n<!-- 3&#45;&gt;5 -->\n<g id=\"edge5\" class=\"edge\">\n<title>3&#45;&gt;5</title>\n<path fill=\"none\" stroke=\"black\" d=\"M240,-103.73C240,-95.52 240,-86.86 240,-78.56\"/>\n<polygon fill=\"black\" stroke=\"black\" points=\"243.5,-78.3 240,-68.3 236.5,-78.3 243.5,-78.3\"/>\n</g>\n<!-- 7 -->\n<g id=\"node8\" class=\"node\">\n<title>7</title>\n<path fill=\"#fcefe5\" stroke=\"black\" d=\"M581.5,-187C581.5,-187 438.5,-187 438.5,-187 432.5,-187 426.5,-181 426.5,-175 426.5,-175 426.5,-116 426.5,-116 426.5,-110 432.5,-104 438.5,-104 438.5,-104 581.5,-104 581.5,-104 587.5,-104 593.5,-110 593.5,-116 593.5,-116 593.5,-175 593.5,-175 593.5,-181 587.5,-187 581.5,-187\"/>\n<text text-anchor=\"middle\" x=\"510\" y=\"-171.8\" font-family=\"Helvetica,sans-Serif\" font-size=\"14.00\">preco &lt;= 99974.41</text>\n<text text-anchor=\"middle\" x=\"510\" y=\"-156.8\" font-family=\"Helvetica,sans-Serif\" font-size=\"14.00\">gini = 0.498</text>\n<text text-anchor=\"middle\" x=\"510\" y=\"-141.8\" font-family=\"Helvetica,sans-Serif\" font-size=\"14.00\">samples = 3513</text>\n<text text-anchor=\"middle\" x=\"510\" y=\"-126.8\" font-family=\"Helvetica,sans-Serif\" font-size=\"14.00\">value = [1879, 1634]</text>\n<text text-anchor=\"middle\" x=\"510\" y=\"-111.8\" font-family=\"Helvetica,sans-Serif\" font-size=\"14.00\">class = não</text>\n</g>\n<!-- 6&#45;&gt;7 -->\n<g id=\"edge7\" class=\"edge\">\n<title>6&#45;&gt;7</title>\n<path fill=\"none\" stroke=\"black\" d=\"M510,-222.91C510,-214.65 510,-205.86 510,-197.3\"/>\n<polygon fill=\"black\" stroke=\"black\" points=\"513.5,-197.02 510,-187.02 506.5,-197.02 513.5,-197.02\"/>\n</g>\n<!-- 10 -->\n<g id=\"node11\" class=\"node\">\n<title>10</title>\n<path fill=\"#e9965a\" stroke=\"black\" d=\"M837.5,-187C837.5,-187 688.5,-187 688.5,-187 682.5,-187 676.5,-181 676.5,-175 676.5,-175 676.5,-116 676.5,-116 676.5,-110 682.5,-104 688.5,-104 688.5,-104 837.5,-104 837.5,-104 843.5,-104 849.5,-110 849.5,-116 849.5,-116 849.5,-175 849.5,-175 849.5,-181 843.5,-187 837.5,-187\"/>\n<text text-anchor=\"middle\" x=\"763\" y=\"-171.8\" font-family=\"Helvetica,sans-Serif\" font-size=\"14.00\">preco &lt;= 100076.957</text>\n<text text-anchor=\"middle\" x=\"763\" y=\"-156.8\" font-family=\"Helvetica,sans-Serif\" font-size=\"14.00\">gini = 0.243</text>\n<text text-anchor=\"middle\" x=\"763\" y=\"-141.8\" font-family=\"Helvetica,sans-Serif\" font-size=\"14.00\">samples = 2140</text>\n<text text-anchor=\"middle\" x=\"763\" y=\"-126.8\" font-family=\"Helvetica,sans-Serif\" font-size=\"14.00\">value = [1837, 303]</text>\n<text text-anchor=\"middle\" x=\"763\" y=\"-111.8\" font-family=\"Helvetica,sans-Serif\" font-size=\"14.00\">class = não</text>\n</g>\n<!-- 6&#45;&gt;10 -->\n<g id=\"edge10\" class=\"edge\">\n<title>6&#45;&gt;10</title>\n<path fill=\"none\" stroke=\"black\" d=\"M597.78,-222.91C620.1,-212.58 644.21,-201.43 666.93,-190.93\"/>\n<polygon fill=\"black\" stroke=\"black\" points=\"668.63,-194 676.23,-186.63 665.69,-187.65 668.63,-194\"/>\n</g>\n<!-- 8 -->\n<g id=\"node9\" class=\"node\">\n<title>8</title>\n<path fill=\"#f9e0ce\" stroke=\"black\" d=\"M491.5,-68C491.5,-68 348.5,-68 348.5,-68 342.5,-68 336.5,-62 336.5,-56 336.5,-56 336.5,-12 336.5,-12 336.5,-6 342.5,0 348.5,0 348.5,0 491.5,0 491.5,0 497.5,0 503.5,-6 503.5,-12 503.5,-12 503.5,-56 503.5,-56 503.5,-62 497.5,-68 491.5,-68\"/>\n<text text-anchor=\"middle\" x=\"420\" y=\"-52.8\" font-family=\"Helvetica,sans-Serif\" font-size=\"14.00\">gini = 0.49</text>\n<text text-anchor=\"middle\" x=\"420\" y=\"-37.8\" font-family=\"Helvetica,sans-Serif\" font-size=\"14.00\">samples = 2944</text>\n<text text-anchor=\"middle\" x=\"420\" y=\"-22.8\" font-family=\"Helvetica,sans-Serif\" font-size=\"14.00\">value = [1682, 1262]</text>\n<text text-anchor=\"middle\" x=\"420\" y=\"-7.8\" font-family=\"Helvetica,sans-Serif\" font-size=\"14.00\">class = não</text>\n</g>\n<!-- 7&#45;&gt;8 -->\n<g id=\"edge8\" class=\"edge\">\n<title>7&#45;&gt;8</title>\n<path fill=\"none\" stroke=\"black\" d=\"M476.49,-103.73C469.07,-94.7 461.2,-85.12 453.77,-76.08\"/>\n<polygon fill=\"black\" stroke=\"black\" points=\"456.42,-73.8 447.37,-68.3 451.02,-78.25 456.42,-73.8\"/>\n</g>\n<!-- 9 -->\n<g id=\"node10\" class=\"node\">\n<title>9</title>\n<path fill=\"#a2d1f3\" stroke=\"black\" d=\"M658.5,-68C658.5,-68 533.5,-68 533.5,-68 527.5,-68 521.5,-62 521.5,-56 521.5,-56 521.5,-12 521.5,-12 521.5,-6 527.5,0 533.5,0 533.5,0 658.5,0 658.5,0 664.5,0 670.5,-6 670.5,-12 670.5,-12 670.5,-56 670.5,-56 670.5,-62 664.5,-68 658.5,-68\"/>\n<text text-anchor=\"middle\" x=\"596\" y=\"-52.8\" font-family=\"Helvetica,sans-Serif\" font-size=\"14.00\">gini = 0.453</text>\n<text text-anchor=\"middle\" x=\"596\" y=\"-37.8\" font-family=\"Helvetica,sans-Serif\" font-size=\"14.00\">samples = 569</text>\n<text text-anchor=\"middle\" x=\"596\" y=\"-22.8\" font-family=\"Helvetica,sans-Serif\" font-size=\"14.00\">value = [197, 372]</text>\n<text text-anchor=\"middle\" x=\"596\" y=\"-7.8\" font-family=\"Helvetica,sans-Serif\" font-size=\"14.00\">class = sim</text>\n</g>\n<!-- 7&#45;&gt;9 -->\n<g id=\"edge9\" class=\"edge\">\n<title>7&#45;&gt;9</title>\n<path fill=\"none\" stroke=\"black\" d=\"M542.02,-103.73C549.04,-94.79 556.48,-85.32 563.52,-76.36\"/>\n<polygon fill=\"black\" stroke=\"black\" points=\"566.42,-78.33 569.85,-68.3 560.92,-74 566.42,-78.33\"/>\n</g>\n<!-- 11 -->\n<g id=\"node12\" class=\"node\">\n<title>11</title>\n<path fill=\"#e68742\" stroke=\"black\" d=\"M825.5,-68C825.5,-68 700.5,-68 700.5,-68 694.5,-68 688.5,-62 688.5,-56 688.5,-56 688.5,-12 688.5,-12 688.5,-6 694.5,0 700.5,0 700.5,0 825.5,0 825.5,0 831.5,0 837.5,-6 837.5,-12 837.5,-12 837.5,-56 837.5,-56 837.5,-62 831.5,-68 825.5,-68\"/>\n<text text-anchor=\"middle\" x=\"763\" y=\"-52.8\" font-family=\"Helvetica,sans-Serif\" font-size=\"14.00\">gini = 0.082</text>\n<text text-anchor=\"middle\" x=\"763\" y=\"-37.8\" font-family=\"Helvetica,sans-Serif\" font-size=\"14.00\">samples = 1809</text>\n<text text-anchor=\"middle\" x=\"763\" y=\"-22.8\" font-family=\"Helvetica,sans-Serif\" font-size=\"14.00\">value = [1732, 77]</text>\n<text text-anchor=\"middle\" x=\"763\" y=\"-7.8\" font-family=\"Helvetica,sans-Serif\" font-size=\"14.00\">class = não</text>\n</g>\n<!-- 10&#45;&gt;11 -->\n<g id=\"edge11\" class=\"edge\">\n<title>10&#45;&gt;11</title>\n<path fill=\"none\" stroke=\"black\" d=\"M763,-103.73C763,-95.52 763,-86.86 763,-78.56\"/>\n<polygon fill=\"black\" stroke=\"black\" points=\"766.5,-78.3 763,-68.3 759.5,-78.3 766.5,-78.3\"/>\n</g>\n<!-- 12 -->\n<g id=\"node13\" class=\"node\">\n<title>12</title>\n<path fill=\"#95cbf1\" stroke=\"black\" d=\"M992.5,-68C992.5,-68 867.5,-68 867.5,-68 861.5,-68 855.5,-62 855.5,-56 855.5,-56 855.5,-12 855.5,-12 855.5,-6 861.5,0 867.5,0 867.5,0 992.5,0 992.5,0 998.5,0 1004.5,-6 1004.5,-12 1004.5,-12 1004.5,-56 1004.5,-56 1004.5,-62 998.5,-68 992.5,-68\"/>\n<text text-anchor=\"middle\" x=\"930\" y=\"-52.8\" font-family=\"Helvetica,sans-Serif\" font-size=\"14.00\">gini = 0.433</text>\n<text text-anchor=\"middle\" x=\"930\" y=\"-37.8\" font-family=\"Helvetica,sans-Serif\" font-size=\"14.00\">samples = 331</text>\n<text text-anchor=\"middle\" x=\"930\" y=\"-22.8\" font-family=\"Helvetica,sans-Serif\" font-size=\"14.00\">value = [105, 226]</text>\n<text text-anchor=\"middle\" x=\"930\" y=\"-7.8\" font-family=\"Helvetica,sans-Serif\" font-size=\"14.00\">class = sim</text>\n</g>\n<!-- 10&#45;&gt;12 -->\n<g id=\"edge12\" class=\"edge\">\n<title>10&#45;&gt;12</title>\n<path fill=\"none\" stroke=\"black\" d=\"M825.18,-103.73C840.15,-93.92 856.09,-83.46 870.9,-73.75\"/>\n<polygon fill=\"black\" stroke=\"black\" points=\"873.04,-76.54 879.48,-68.13 869.2,-70.68 873.04,-76.54\"/>\n</g>\n</g>\n</svg>\n",
            "text/plain": [
              "<graphviz.sources.Source at 0x7fd8faa3fa00>"
            ]
          },
          "execution_count": 13,
          "metadata": {},
          "output_type": "execute_result"
        }
      ],
      "source": [
        "import graphviz\n",
        "from sklearn.tree import export_graphviz\n",
        "\n",
        "modelo.fit(x_azar,y_azar)\n",
        "\n",
        "features = x_azar.columns\n",
        "dot_data = export_graphviz(modelo, out_file=None, filled=True, rounded=True, class_names=['não','sim'], feature_names = features)\n",
        "graph = graphviz.Source(dot_data)\n",
        "graph"
      ]
    },
    {
      "cell_type": "markdown",
      "metadata": {},
      "source": [
        "### Explorando hiper parâmetros em uma dimensão"
      ]
    },
    {
      "cell_type": "code",
      "execution_count": 24,
      "metadata": {},
      "outputs": [
        {
          "name": "stdout",
          "output_type": "stream",
          "text": [
            "max_depth = 1, media_teste = 75.78, media_treino = 75.79\n",
            "max_depth = 2, media_teste = 75.78, media_treino = 75.79\n",
            "max_depth = 3, media_teste = 78.67, media_treino = 78.75\n",
            "max_depth = 4, media_teste = 78.63, media_treino = 78.79\n",
            "max_depth = 5, media_teste = 78.56, media_treino = 78.94\n",
            "max_depth = 6, media_teste = 78.12, media_treino = 79.17\n",
            "max_depth = 7, media_teste = 77.96, media_treino = 79.50\n",
            "max_depth = 8, media_teste = 77.86, media_treino = 79.89\n",
            "max_depth = 9, media_teste = 77.38, media_treino = 80.46\n",
            "max_depth = 10, media_teste = 77.19, media_treino = 81.16\n",
            "max_depth = 11, media_teste = 76.97, media_treino = 82.03\n",
            "max_depth = 12, media_teste = 76.49, media_treino = 82.89\n",
            "max_depth = 13, media_teste = 75.81, media_treino = 83.95\n",
            "max_depth = 14, media_teste = 75.66, media_treino = 85.03\n",
            "max_depth = 15, media_teste = 75.16, media_treino = 86.14\n",
            "max_depth = 16, media_teste = 75.11, media_treino = 87.19\n",
            "max_depth = 17, media_teste = 74.74, media_treino = 88.31\n",
            "max_depth = 18, media_teste = 74.33, media_treino = 89.26\n",
            "max_depth = 19, media_teste = 74.34, media_treino = 90.32\n",
            "max_depth = 20, media_teste = 74.22, media_treino = 91.32\n",
            "max_depth = 21, media_teste = 73.80, media_treino = 92.14\n",
            "max_depth = 22, media_teste = 73.81, media_treino = 93.02\n",
            "max_depth = 23, media_teste = 73.38, media_treino = 93.80\n",
            "max_depth = 24, media_teste = 73.43, media_treino = 94.47\n",
            "max_depth = 25, media_teste = 73.14, media_treino = 95.16\n",
            "max_depth = 26, media_teste = 73.04, media_treino = 95.74\n",
            "max_depth = 27, media_teste = 72.91, media_treino = 96.33\n",
            "max_depth = 28, media_teste = 72.66, media_treino = 96.75\n",
            "max_depth = 29, media_teste = 72.73, media_treino = 97.10\n",
            "max_depth = 30, media_teste = 72.81, media_treino = 97.43\n",
            "max_depth = 31, media_teste = 72.86, media_treino = 97.80\n",
            "max_depth = 32, media_teste = 72.52, media_treino = 98.10\n"
          ]
        },
        {
          "data": {
            "text/html": [
              "<div>\n",
              "<style scoped>\n",
              "    .dataframe tbody tr th:only-of-type {\n",
              "        vertical-align: middle;\n",
              "    }\n",
              "\n",
              "    .dataframe tbody tr th {\n",
              "        vertical-align: top;\n",
              "    }\n",
              "\n",
              "    .dataframe thead th {\n",
              "        text-align: right;\n",
              "    }\n",
              "</style>\n",
              "<table border=\"1\" class=\"dataframe\">\n",
              "  <thead>\n",
              "    <tr style=\"text-align: right;\">\n",
              "      <th></th>\n",
              "      <th>max_depth</th>\n",
              "      <th>test</th>\n",
              "      <th>train</th>\n",
              "    </tr>\n",
              "  </thead>\n",
              "  <tbody>\n",
              "    <tr>\n",
              "      <th>0</th>\n",
              "      <td>1</td>\n",
              "      <td>75.784219</td>\n",
              "      <td>75.791169</td>\n",
              "    </tr>\n",
              "    <tr>\n",
              "      <th>1</th>\n",
              "      <td>2</td>\n",
              "      <td>75.784219</td>\n",
              "      <td>75.791169</td>\n",
              "    </tr>\n",
              "    <tr>\n",
              "      <th>2</th>\n",
              "      <td>3</td>\n",
              "      <td>78.672633</td>\n",
              "      <td>78.750993</td>\n",
              "    </tr>\n",
              "    <tr>\n",
              "      <th>3</th>\n",
              "      <td>4</td>\n",
              "      <td>78.632803</td>\n",
              "      <td>78.787628</td>\n",
              "    </tr>\n",
              "    <tr>\n",
              "      <th>4</th>\n",
              "      <td>5</td>\n",
              "      <td>78.555912</td>\n",
              "      <td>78.941007</td>\n",
              "    </tr>\n",
              "  </tbody>\n",
              "</table>\n",
              "</div>"
            ],
            "text/plain": [
              "   max_depth       test      train\n",
              "0          1  75.784219  75.791169\n",
              "1          2  75.784219  75.791169\n",
              "2          3  78.672633  78.750993\n",
              "3          4  78.632803  78.787628\n",
              "4          5  78.555912  78.941007"
            ]
          },
          "execution_count": 24,
          "metadata": {},
          "output_type": "execute_result"
        }
      ],
      "source": [
        "# GroupKFold para analisar como o modelo se comporta com novos grupos\n",
        "\n",
        "def roda_arvore_de_decisao(profundidade):\n",
        "    SEED = 301\n",
        "    np.random.seed(SEED)\n",
        "\n",
        "    cv = GroupKFold(n_splits = 10)\n",
        "    modelo = DecisionTreeClassifier(max_depth=profundidade)\n",
        "    results = cross_validate(modelo, x_azar, y_azar, cv = cv, groups = dados.modelo, return_train_score=True)\n",
        "    test_score = results['test_score'].mean() * 100\n",
        "    train_score = results['train_score'].mean() * 100\n",
        "    print('max_depth = %d, media_teste = %.2f, media_treino = %.2f' \n",
        "        % (profundidade, test_score, train_score))\n",
        "    tabela = [profundidade, test_score, train_score]\n",
        "    return tabela\n",
        "    \n",
        "resultados = [roda_arvore_de_decisao(i) for i in range(1,33)]\n",
        "\n",
        "resultados = pd.DataFrame(resultados, columns=[\"max_depth\",\"test\",\"train\"])\n",
        "resultados.head()"
      ]
    },
    {
      "cell_type": "markdown",
      "metadata": {},
      "source": [
        "### Overfitting"
      ]
    },
    {
      "cell_type": "code",
      "execution_count": 27,
      "metadata": {},
      "outputs": [
        {
          "data": {
            "text/plain": [
              "<matplotlib.legend.Legend at 0x7fd8e1c06a10>"
            ]
          },
          "execution_count": 27,
          "metadata": {},
          "output_type": "execute_result"
        },
        {
          "data": {
            "image/png": "[encoded data removed]",
            "text/plain": [
              "<Figure size 432x288 with 1 Axes>"
            ]
          },
          "metadata": {
            "needs_background": "light"
          },
          "output_type": "display_data"
        }
      ],
      "source": [
        "import seaborn as sns\n",
        "import matplotlib.pyplot as plt\n",
        "sns.lineplot(x=\"max_depth\",y=\"train\",data=resultados)\n",
        "sns.lineplot(x=\"max_depth\",y=\"test\",data=resultados)\n",
        "plt.legend(['Treino','Teste'])"
      ]
    },
    {
      "cell_type": "code",
      "execution_count": 28,
      "metadata": {},
      "outputs": [
        {
          "data": {
            "text/html": [
              "<div>\n",
              "<style scoped>\n",
              "    .dataframe tbody tr th:only-of-type {\n",
              "        vertical-align: middle;\n",
              "    }\n",
              "\n",
              "    .dataframe tbody tr th {\n",
              "        vertical-align: top;\n",
              "    }\n",
              "\n",
              "    .dataframe thead th {\n",
              "        text-align: right;\n",
              "    }\n",
              "</style>\n",
              "<table border=\"1\" class=\"dataframe\">\n",
              "  <thead>\n",
              "    <tr style=\"text-align: right;\">\n",
              "      <th></th>\n",
              "      <th>max_depth</th>\n",
              "      <th>test</th>\n",
              "      <th>train</th>\n",
              "    </tr>\n",
              "  </thead>\n",
              "  <tbody>\n",
              "    <tr>\n",
              "      <th>2</th>\n",
              "      <td>3</td>\n",
              "      <td>78.672633</td>\n",
              "      <td>78.750993</td>\n",
              "    </tr>\n",
              "    <tr>\n",
              "      <th>3</th>\n",
              "      <td>4</td>\n",
              "      <td>78.632803</td>\n",
              "      <td>78.787628</td>\n",
              "    </tr>\n",
              "    <tr>\n",
              "      <th>4</th>\n",
              "      <td>5</td>\n",
              "      <td>78.555912</td>\n",
              "      <td>78.941007</td>\n",
              "    </tr>\n",
              "    <tr>\n",
              "      <th>5</th>\n",
              "      <td>6</td>\n",
              "      <td>78.123266</td>\n",
              "      <td>79.170115</td>\n",
              "    </tr>\n",
              "    <tr>\n",
              "      <th>6</th>\n",
              "      <td>7</td>\n",
              "      <td>77.963185</td>\n",
              "      <td>79.496806</td>\n",
              "    </tr>\n",
              "  </tbody>\n",
              "</table>\n",
              "</div>"
            ],
            "text/plain": [
              "   max_depth       test      train\n",
              "2          3  78.672633  78.750993\n",
              "3          4  78.632803  78.787628\n",
              "4          5  78.555912  78.941007\n",
              "5          6  78.123266  79.170115\n",
              "6          7  77.963185  79.496806"
            ]
          },
          "execution_count": 28,
          "metadata": {},
          "output_type": "execute_result"
        }
      ],
      "source": [
        "resultados.sort_values(\"test\", ascending=False).head()"
      ]
    },
    {
      "cell_type": "markdown",
      "metadata": {},
      "source": [
        "### Explorando hiper parâmetros em duas dimensões"
      ]
    },
    {
      "cell_type": "code",
      "execution_count": 31,
      "metadata": {},
      "outputs": [
        {
          "data": {
            "text/html": [
              "<div>\n",
              "<style scoped>\n",
              "    .dataframe tbody tr th:only-of-type {\n",
              "        vertical-align: middle;\n",
              "    }\n",
              "\n",
              "    .dataframe tbody tr th {\n",
              "        vertical-align: top;\n",
              "    }\n",
              "\n",
              "    .dataframe thead th {\n",
              "        text-align: right;\n",
              "    }\n",
              "</style>\n",
              "<table border=\"1\" class=\"dataframe\">\n",
              "  <thead>\n",
              "    <tr style=\"text-align: right;\">\n",
              "      <th></th>\n",
              "      <th>max_depth</th>\n",
              "      <th>min_samples_leaf</th>\n",
              "      <th>test</th>\n",
              "      <th>train</th>\n",
              "    </tr>\n",
              "  </thead>\n",
              "  <tbody>\n",
              "    <tr>\n",
              "      <th>0</th>\n",
              "      <td>1</td>\n",
              "      <td>32</td>\n",
              "      <td>75.784219</td>\n",
              "      <td>75.791169</td>\n",
              "    </tr>\n",
              "    <tr>\n",
              "      <th>1</th>\n",
              "      <td>1</td>\n",
              "      <td>64</td>\n",
              "      <td>75.784219</td>\n",
              "      <td>75.791169</td>\n",
              "    </tr>\n",
              "    <tr>\n",
              "      <th>2</th>\n",
              "      <td>1</td>\n",
              "      <td>128</td>\n",
              "      <td>75.784219</td>\n",
              "      <td>75.791169</td>\n",
              "    </tr>\n",
              "    <tr>\n",
              "      <th>3</th>\n",
              "      <td>1</td>\n",
              "      <td>256</td>\n",
              "      <td>75.784219</td>\n",
              "      <td>75.791169</td>\n",
              "    </tr>\n",
              "    <tr>\n",
              "      <th>4</th>\n",
              "      <td>2</td>\n",
              "      <td>32</td>\n",
              "      <td>75.784219</td>\n",
              "      <td>75.791169</td>\n",
              "    </tr>\n",
              "  </tbody>\n",
              "</table>\n",
              "</div>"
            ],
            "text/plain": [
              "   max_depth  min_samples_leaf       test      train\n",
              "0          1                32  75.784219  75.791169\n",
              "1          1                64  75.784219  75.791169\n",
              "2          1               128  75.784219  75.791169\n",
              "3          1               256  75.784219  75.791169\n",
              "4          2                32  75.784219  75.791169"
            ]
          },
          "execution_count": 31,
          "metadata": {},
          "output_type": "execute_result"
        }
      ],
      "source": [
        "# GroupKFold para analisar como o modelo se comporta com novos grupos\n",
        "\n",
        "def roda_arvore_de_decisao(profundidade, amostras_por_folha):\n",
        "    SEED = 301\n",
        "    np.random.seed(SEED)\n",
        "\n",
        "    cv = GroupKFold(n_splits = 10)\n",
        "    modelo = DecisionTreeClassifier(max_depth=profundidade,\n",
        "                                    min_samples_leaf=amostras_por_folha)\n",
        "    results = cross_validate(modelo, x_azar, y_azar, cv = cv, groups = dados.modelo, return_train_score=True)\n",
        "    test_score = results['test_score'].mean() * 100\n",
        "    train_score = results['train_score'].mean() * 100\n",
        "    tabela = [profundidade, amostras_por_folha, test_score, train_score]\n",
        "    return tabela\n",
        "\n",
        "def busca():\n",
        "    resultados = []\n",
        "    for max_depth in range(1,33):\n",
        "        for min_samples_leaf in [32,64,128,256]:\n",
        "            for min_samples_split in [1000, 2000, 3000]:\n",
        "                tabela = roda_arvore_de_decisao(max_depth,min_samples_leaf)\n",
        "                resultados.append(tabela)\n",
        "    resultados = pd.DataFrame(resultados, columns=[\"max_depth\"\"min_samples_leaf\",\"test\",\"train\"])\n",
        "    return resultados\n",
        "\n",
        "resultados = busca()\n",
        "resultados.head()"
      ]
    },
    {
      "cell_type": "code",
      "execution_count": 33,
      "metadata": {},
      "outputs": [],
      "source": [
        "corr = resultados.corr()"
      ]
    },
    {
      "cell_type": "code",
      "execution_count": 34,
      "metadata": {},
      "outputs": [
        {
          "data": {
            "text/plain": [
              "<AxesSubplot:>"
            ]
          },
          "execution_count": 34,
          "metadata": {},
          "output_type": "execute_result"
        },
        {
          "data": {
            "image/png": "[encoded data removed]",
            "text/plain": [
              "<Figure size 432x288 with 2 Axes>"
            ]
          },
          "metadata": {
            "needs_background": "light"
          },
          "output_type": "display_data"
        }
      ],
      "source": [
        "sns.heatmap(corr)"
      ]
    },
    {
      "cell_type": "code",
      "execution_count": 38,
      "metadata": {},
      "outputs": [
        {
          "data": {
            "text/plain": [
              "array([[<AxesSubplot:xlabel='max_depth', ylabel='max_depth'>,\n",
              "        <AxesSubplot:xlabel='min_samples_leaf', ylabel='max_depth'>,\n",
              "        <AxesSubplot:xlabel='test', ylabel='max_depth'>,\n",
              "        <AxesSubplot:xlabel='train', ylabel='max_depth'>],\n",
              "       [<AxesSubplot:xlabel='max_depth', ylabel='min_samples_leaf'>,\n",
              "        <AxesSubplot:xlabel='min_samples_leaf', ylabel='min_samples_leaf'>,\n",
              "        <AxesSubplot:xlabel='test', ylabel='min_samples_leaf'>,\n",
              "        <AxesSubplot:xlabel='train', ylabel='min_samples_leaf'>],\n",
              "       [<AxesSubplot:xlabel='max_depth', ylabel='test'>,\n",
              "        <AxesSubplot:xlabel='min_samples_leaf', ylabel='test'>,\n",
              "        <AxesSubplot:xlabel='test', ylabel='test'>,\n",
              "        <AxesSubplot:xlabel='train', ylabel='test'>],\n",
              "       [<AxesSubplot:xlabel='max_depth', ylabel='train'>,\n",
              "        <AxesSubplot:xlabel='min_samples_leaf', ylabel='train'>,\n",
              "        <AxesSubplot:xlabel='test', ylabel='train'>,\n",
              "        <AxesSubplot:xlabel='train', ylabel='train'>]], dtype=object)"
            ]
          },
          "execution_count": 38,
          "metadata": {},
          "output_type": "execute_result"
        },
        {
          "data": {
            "image/png": "[encoded data removed]",
            "text/plain": [
              "<Figure size 1008x576 with 16 Axes>"
            ]
          },
          "metadata": {
            "needs_background": "light"
          },
          "output_type": "display_data"
        }
      ],
      "source": [
        "pd.plotting.scatter_matrix(resultados, figsize = (14,8))"
      ]
    },
    {
      "cell_type": "code",
      "execution_count": 39,
      "metadata": {},
      "outputs": [
        {
          "data": {
            "text/plain": [
              "<seaborn.axisgrid.PairGrid at 0x7fd8dffb6b90>"
            ]
          },
          "execution_count": 39,
          "metadata": {},
          "output_type": "execute_result"
        },
        {
          "data": {
            "image/png": "[encoded data removed]",
            "text/plain": [
              "<Figure size 720x720 with 20 Axes>"
            ]
          },
          "metadata": {
            "needs_background": "light"
          },
          "output_type": "display_data"
        }
      ],
      "source": [
        "sns.pairplot(resultados)"
      ]
    },
    {
      "cell_type": "markdown",
      "metadata": {
        "colab": {},
        "colab_type": "code",
        "id": "goijy0rSS7n-"
      },
      "source": [
        "### Explorando 3 hiper parâmetros"
      ]
    },
    {
      "cell_type": "code",
      "execution_count": 43,
      "metadata": {},
      "outputs": [
        {
          "data": {
            "text/html": [
              "<div>\n",
              "<style scoped>\n",
              "    .dataframe tbody tr th:only-of-type {\n",
              "        vertical-align: middle;\n",
              "    }\n",
              "\n",
              "    .dataframe tbody tr th {\n",
              "        vertical-align: top;\n",
              "    }\n",
              "\n",
              "    .dataframe thead th {\n",
              "        text-align: right;\n",
              "    }\n",
              "</style>\n",
              "<table border=\"1\" class=\"dataframe\">\n",
              "  <thead>\n",
              "    <tr style=\"text-align: right;\">\n",
              "      <th></th>\n",
              "      <th>max_depth</th>\n",
              "      <th>min_samples_split</th>\n",
              "      <th>min_samples_leaf</th>\n",
              "      <th>test</th>\n",
              "      <th>train</th>\n",
              "      <th>fit_time</th>\n",
              "      <th>score_time</th>\n",
              "    </tr>\n",
              "  </thead>\n",
              "  <tbody>\n",
              "    <tr>\n",
              "      <th>0</th>\n",
              "      <td>1</td>\n",
              "      <td>1000</td>\n",
              "      <td>32</td>\n",
              "      <td>75.784219</td>\n",
              "      <td>75.791169</td>\n",
              "      <td>0.006995</td>\n",
              "      <td>0.002092</td>\n",
              "    </tr>\n",
              "    <tr>\n",
              "      <th>1</th>\n",
              "      <td>1</td>\n",
              "      <td>2000</td>\n",
              "      <td>32</td>\n",
              "      <td>75.784219</td>\n",
              "      <td>75.791169</td>\n",
              "      <td>0.005889</td>\n",
              "      <td>0.001646</td>\n",
              "    </tr>\n",
              "    <tr>\n",
              "      <th>2</th>\n",
              "      <td>1</td>\n",
              "      <td>3000</td>\n",
              "      <td>32</td>\n",
              "      <td>75.784219</td>\n",
              "      <td>75.791169</td>\n",
              "      <td>0.005603</td>\n",
              "      <td>0.001699</td>\n",
              "    </tr>\n",
              "    <tr>\n",
              "      <th>3</th>\n",
              "      <td>1</td>\n",
              "      <td>1000</td>\n",
              "      <td>64</td>\n",
              "      <td>75.784219</td>\n",
              "      <td>75.791169</td>\n",
              "      <td>0.004669</td>\n",
              "      <td>0.001448</td>\n",
              "    </tr>\n",
              "    <tr>\n",
              "      <th>4</th>\n",
              "      <td>1</td>\n",
              "      <td>2000</td>\n",
              "      <td>64</td>\n",
              "      <td>75.784219</td>\n",
              "      <td>75.791169</td>\n",
              "      <td>0.004666</td>\n",
              "      <td>0.001699</td>\n",
              "    </tr>\n",
              "  </tbody>\n",
              "</table>\n",
              "</div>"
            ],
            "text/plain": [
              "   max_depth  min_samples_split  min_samples_leaf       test      train  \\\n",
              "0          1               1000                32  75.784219  75.791169   \n",
              "1          1               2000                32  75.784219  75.791169   \n",
              "2          1               3000                32  75.784219  75.791169   \n",
              "3          1               1000                64  75.784219  75.791169   \n",
              "4          1               2000                64  75.784219  75.791169   \n",
              "\n",
              "   fit_time  score_time  \n",
              "0  0.006995    0.002092  \n",
              "1  0.005889    0.001646  \n",
              "2  0.005603    0.001699  \n",
              "3  0.004669    0.001448  \n",
              "4  0.004666    0.001699  "
            ]
          },
          "execution_count": 43,
          "metadata": {},
          "output_type": "execute_result"
        }
      ],
      "source": [
        "def roda_arvore_de_decisao(profundidade, amostras_por_folha,amostras_para_split):\n",
        "    SEED = 301\n",
        "    np.random.seed(SEED)\n",
        "\n",
        "    cv = GroupKFold(n_splits = 10)\n",
        "    modelo = DecisionTreeClassifier(max_depth=profundidade,\n",
        "                                    min_samples_split=amostras_para_split, \n",
        "                                    min_samples_leaf=amostras_por_folha)\n",
        "    results = cross_validate(modelo, x_azar, y_azar, cv = cv, groups = dados.modelo, return_train_score=True)\n",
        "    fit_time = results['fit_time'].mean()\n",
        "    score_time = results['score_time'].mean()\n",
        "    test_score = results['test_score'].mean() * 100\n",
        "    train_score = results['train_score'].mean() * 100\n",
        "    tabela = [profundidade, amostras_para_split, amostras_por_folha, test_score, train_score, fit_time, score_time]\n",
        "    return tabela\n",
        "\n",
        "def busca():\n",
        "    resultados = []\n",
        "    for max_depth in range(1,33):\n",
        "        for min_samples_leaf in [32,64,128,256]:\n",
        "            for min_samples_split in [1000, 2000, 3000]:\n",
        "                tabela = roda_arvore_de_decisao(max_depth,min_samples_leaf,min_samples_split)\n",
        "                resultados.append(tabela)\n",
        "    resultados = pd.DataFrame(resultados, columns=[\"max_depth\",\"min_samples_split\",\"min_samples_leaf\",\"test\",\"train\",\"fit_time\",\"score_time\"])\n",
        "    return resultados\n",
        "\n",
        "resultados = busca()\n",
        "resultados.head()"
      ]
    },
    {
      "cell_type": "code",
      "execution_count": 42,
      "metadata": {},
      "outputs": [
        {
          "data": {
            "text/html": [
              "<div>\n",
              "<style scoped>\n",
              "    .dataframe tbody tr th:only-of-type {\n",
              "        vertical-align: middle;\n",
              "    }\n",
              "\n",
              "    .dataframe tbody tr th {\n",
              "        vertical-align: top;\n",
              "    }\n",
              "\n",
              "    .dataframe thead th {\n",
              "        text-align: right;\n",
              "    }\n",
              "</style>\n",
              "<table border=\"1\" class=\"dataframe\">\n",
              "  <thead>\n",
              "    <tr style=\"text-align: right;\">\n",
              "      <th></th>\n",
              "      <th>max_depth</th>\n",
              "      <th>min_samples_split</th>\n",
              "      <th>min_samples_leaf</th>\n",
              "      <th>test</th>\n",
              "      <th>train</th>\n",
              "    </tr>\n",
              "  </thead>\n",
              "  <tbody>\n",
              "    <tr>\n",
              "      <th>36</th>\n",
              "      <td>4</td>\n",
              "      <td>1000</td>\n",
              "      <td>32</td>\n",
              "      <td>78.672633</td>\n",
              "      <td>78.750993</td>\n",
              "    </tr>\n",
              "    <tr>\n",
              "      <th>45</th>\n",
              "      <td>4</td>\n",
              "      <td>1000</td>\n",
              "      <td>256</td>\n",
              "      <td>78.672633</td>\n",
              "      <td>78.750993</td>\n",
              "    </tr>\n",
              "    <tr>\n",
              "      <th>30</th>\n",
              "      <td>3</td>\n",
              "      <td>1000</td>\n",
              "      <td>128</td>\n",
              "      <td>78.672633</td>\n",
              "      <td>78.750993</td>\n",
              "    </tr>\n",
              "    <tr>\n",
              "      <th>24</th>\n",
              "      <td>3</td>\n",
              "      <td>1000</td>\n",
              "      <td>32</td>\n",
              "      <td>78.672633</td>\n",
              "      <td>78.750993</td>\n",
              "    </tr>\n",
              "    <tr>\n",
              "      <th>33</th>\n",
              "      <td>3</td>\n",
              "      <td>1000</td>\n",
              "      <td>256</td>\n",
              "      <td>78.672633</td>\n",
              "      <td>78.750993</td>\n",
              "    </tr>\n",
              "  </tbody>\n",
              "</table>\n",
              "</div>"
            ],
            "text/plain": [
              "    max_depth  min_samples_split  min_samples_leaf       test      train\n",
              "36          4               1000                32  78.672633  78.750993\n",
              "45          4               1000               256  78.672633  78.750993\n",
              "30          3               1000               128  78.672633  78.750993\n",
              "24          3               1000                32  78.672633  78.750993\n",
              "33          3               1000               256  78.672633  78.750993"
            ]
          },
          "execution_count": 42,
          "metadata": {},
          "output_type": "execute_result"
        }
      ],
      "source": [
        "resultados.sort_values('test',ascending=False).head()"
      ]
    },
    {
      "cell_type": "markdown",
      "metadata": {},
      "source": [
        "# Explorando espaço de hiperparâmetros com GridSearchCV"
      ]
    },
    {
      "cell_type": "code",
      "execution_count": 44,
      "metadata": {},
      "outputs": [
        {
          "data": {
            "text/html": [
              "<div>\n",
              "<style scoped>\n",
              "    .dataframe tbody tr th:only-of-type {\n",
              "        vertical-align: middle;\n",
              "    }\n",
              "\n",
              "    .dataframe tbody tr th {\n",
              "        vertical-align: top;\n",
              "    }\n",
              "\n",
              "    .dataframe thead th {\n",
              "        text-align: right;\n",
              "    }\n",
              "</style>\n",
              "<table border=\"1\" class=\"dataframe\">\n",
              "  <thead>\n",
              "    <tr style=\"text-align: right;\">\n",
              "      <th></th>\n",
              "      <th>mean_fit_time</th>\n",
              "      <th>std_fit_time</th>\n",
              "      <th>mean_score_time</th>\n",
              "      <th>std_score_time</th>\n",
              "      <th>param_criterion</th>\n",
              "      <th>param_max_depth</th>\n",
              "      <th>param_min_samples_leaf</th>\n",
              "      <th>param_min_samples_split</th>\n",
              "      <th>params</th>\n",
              "      <th>split0_test_score</th>\n",
              "      <th>...</th>\n",
              "      <th>split3_test_score</th>\n",
              "      <th>split4_test_score</th>\n",
              "      <th>split5_test_score</th>\n",
              "      <th>split6_test_score</th>\n",
              "      <th>split7_test_score</th>\n",
              "      <th>split8_test_score</th>\n",
              "      <th>split9_test_score</th>\n",
              "      <th>mean_test_score</th>\n",
              "      <th>std_test_score</th>\n",
              "      <th>rank_test_score</th>\n",
              "    </tr>\n",
              "  </thead>\n",
              "  <tbody>\n",
              "    <tr>\n",
              "      <th>0</th>\n",
              "      <td>0.011159</td>\n",
              "      <td>0.001796</td>\n",
              "      <td>0.001664</td>\n",
              "      <td>0.000409</td>\n",
              "      <td>gini</td>\n",
              "      <td>3</td>\n",
              "      <td>32</td>\n",
              "      <td>32</td>\n",
              "      <td>{'criterion': 'gini', 'max_depth': 3, 'min_sam...</td>\n",
              "      <td>0.804757</td>\n",
              "      <td>...</td>\n",
              "      <td>0.78408</td>\n",
              "      <td>0.783181</td>\n",
              "      <td>0.797809</td>\n",
              "      <td>0.762866</td>\n",
              "      <td>0.781818</td>\n",
              "      <td>0.77551</td>\n",
              "      <td>0.790262</td>\n",
              "      <td>0.786726</td>\n",
              "      <td>0.011361</td>\n",
              "      <td>1</td>\n",
              "    </tr>\n",
              "    <tr>\n",
              "      <th>1</th>\n",
              "      <td>0.009068</td>\n",
              "      <td>0.000806</td>\n",
              "      <td>0.001466</td>\n",
              "      <td>0.000248</td>\n",
              "      <td>gini</td>\n",
              "      <td>3</td>\n",
              "      <td>32</td>\n",
              "      <td>64</td>\n",
              "      <td>{'criterion': 'gini', 'max_depth': 3, 'min_sam...</td>\n",
              "      <td>0.804757</td>\n",
              "      <td>...</td>\n",
              "      <td>0.78408</td>\n",
              "      <td>0.783181</td>\n",
              "      <td>0.797809</td>\n",
              "      <td>0.762866</td>\n",
              "      <td>0.781818</td>\n",
              "      <td>0.77551</td>\n",
              "      <td>0.790262</td>\n",
              "      <td>0.786726</td>\n",
              "      <td>0.011361</td>\n",
              "      <td>1</td>\n",
              "    </tr>\n",
              "    <tr>\n",
              "      <th>2</th>\n",
              "      <td>0.008862</td>\n",
              "      <td>0.000445</td>\n",
              "      <td>0.001425</td>\n",
              "      <td>0.000265</td>\n",
              "      <td>gini</td>\n",
              "      <td>3</td>\n",
              "      <td>32</td>\n",
              "      <td>128</td>\n",
              "      <td>{'criterion': 'gini', 'max_depth': 3, 'min_sam...</td>\n",
              "      <td>0.804757</td>\n",
              "      <td>...</td>\n",
              "      <td>0.78408</td>\n",
              "      <td>0.783181</td>\n",
              "      <td>0.797809</td>\n",
              "      <td>0.762866</td>\n",
              "      <td>0.781818</td>\n",
              "      <td>0.77551</td>\n",
              "      <td>0.790262</td>\n",
              "      <td>0.786726</td>\n",
              "      <td>0.011361</td>\n",
              "      <td>1</td>\n",
              "    </tr>\n",
              "    <tr>\n",
              "      <th>3</th>\n",
              "      <td>0.008982</td>\n",
              "      <td>0.000437</td>\n",
              "      <td>0.001511</td>\n",
              "      <td>0.000163</td>\n",
              "      <td>gini</td>\n",
              "      <td>3</td>\n",
              "      <td>64</td>\n",
              "      <td>32</td>\n",
              "      <td>{'criterion': 'gini', 'max_depth': 3, 'min_sam...</td>\n",
              "      <td>0.804757</td>\n",
              "      <td>...</td>\n",
              "      <td>0.78408</td>\n",
              "      <td>0.783181</td>\n",
              "      <td>0.797809</td>\n",
              "      <td>0.762866</td>\n",
              "      <td>0.781818</td>\n",
              "      <td>0.77551</td>\n",
              "      <td>0.790262</td>\n",
              "      <td>0.786726</td>\n",
              "      <td>0.011361</td>\n",
              "      <td>1</td>\n",
              "    </tr>\n",
              "    <tr>\n",
              "      <th>4</th>\n",
              "      <td>0.012550</td>\n",
              "      <td>0.003690</td>\n",
              "      <td>0.002372</td>\n",
              "      <td>0.000965</td>\n",
              "      <td>gini</td>\n",
              "      <td>3</td>\n",
              "      <td>64</td>\n",
              "      <td>64</td>\n",
              "      <td>{'criterion': 'gini', 'max_depth': 3, 'min_sam...</td>\n",
              "      <td>0.804757</td>\n",
              "      <td>...</td>\n",
              "      <td>0.78408</td>\n",
              "      <td>0.783181</td>\n",
              "      <td>0.797809</td>\n",
              "      <td>0.762866</td>\n",
              "      <td>0.781818</td>\n",
              "      <td>0.77551</td>\n",
              "      <td>0.790262</td>\n",
              "      <td>0.786726</td>\n",
              "      <td>0.011361</td>\n",
              "      <td>1</td>\n",
              "    </tr>\n",
              "  </tbody>\n",
              "</table>\n",
              "<p>5 rows × 22 columns</p>\n",
              "</div>"
            ],
            "text/plain": [
              "   mean_fit_time  std_fit_time  mean_score_time  std_score_time  \\\n",
              "0       0.011159      0.001796         0.001664        0.000409   \n",
              "1       0.009068      0.000806         0.001466        0.000248   \n",
              "2       0.008862      0.000445         0.001425        0.000265   \n",
              "3       0.008982      0.000437         0.001511        0.000163   \n",
              "4       0.012550      0.003690         0.002372        0.000965   \n",
              "\n",
              "  param_criterion param_max_depth param_min_samples_leaf  \\\n",
              "0            gini               3                     32   \n",
              "1            gini               3                     32   \n",
              "2            gini               3                     32   \n",
              "3            gini               3                     64   \n",
              "4            gini               3                     64   \n",
              "\n",
              "  param_min_samples_split                                             params  \\\n",
              "0                      32  {'criterion': 'gini', 'max_depth': 3, 'min_sam...   \n",
              "1                      64  {'criterion': 'gini', 'max_depth': 3, 'min_sam...   \n",
              "2                     128  {'criterion': 'gini', 'max_depth': 3, 'min_sam...   \n",
              "3                      32  {'criterion': 'gini', 'max_depth': 3, 'min_sam...   \n",
              "4                      64  {'criterion': 'gini', 'max_depth': 3, 'min_sam...   \n",
              "\n",
              "   split0_test_score  ...  split3_test_score  split4_test_score  \\\n",
              "0           0.804757  ...            0.78408           0.783181   \n",
              "1           0.804757  ...            0.78408           0.783181   \n",
              "2           0.804757  ...            0.78408           0.783181   \n",
              "3           0.804757  ...            0.78408           0.783181   \n",
              "4           0.804757  ...            0.78408           0.783181   \n",
              "\n",
              "   split5_test_score  split6_test_score  split7_test_score  split8_test_score  \\\n",
              "0           0.797809           0.762866           0.781818            0.77551   \n",
              "1           0.797809           0.762866           0.781818            0.77551   \n",
              "2           0.797809           0.762866           0.781818            0.77551   \n",
              "3           0.797809           0.762866           0.781818            0.77551   \n",
              "4           0.797809           0.762866           0.781818            0.77551   \n",
              "\n",
              "   split9_test_score  mean_test_score  std_test_score  rank_test_score  \n",
              "0           0.790262         0.786726        0.011361                1  \n",
              "1           0.790262         0.786726        0.011361                1  \n",
              "2           0.790262         0.786726        0.011361                1  \n",
              "3           0.790262         0.786726        0.011361                1  \n",
              "4           0.790262         0.786726        0.011361                1  \n",
              "\n",
              "[5 rows x 22 columns]"
            ]
          },
          "execution_count": 44,
          "metadata": {},
          "output_type": "execute_result"
        }
      ],
      "source": [
        "from sklearn.model_selection import GridSearchCV\n",
        "\n",
        "SEED = 301\n",
        "np.random.seed(SEED)\n",
        "\n",
        "espaco_de_parametros = {\n",
        "    \"max_depth\": [3,5],\n",
        "    \"min_samples_split\": [32,64,128],\n",
        "    \"min_samples_leaf\": [32,64,128],\n",
        "    \"criterion\": [\"gini\",\"entropy\"]\n",
        "}\n",
        "\n",
        "busca = GridSearchCV(DecisionTreeClassifier(), espaco_de_parametros, cv = GroupKFold(n_splits = 10))\n",
        "\n",
        "busca.fit(x_azar, y_azar, groups = dados.modelo)\n",
        "\n",
        "resultados = pd.DataFrame(busca.cv_results_)\n",
        "resultados.head()"
      ]
    },
    {
      "cell_type": "code",
      "execution_count": 47,
      "metadata": {},
      "outputs": [
        {
          "name": "stdout",
          "output_type": "stream",
          "text": [
            "{'criterion': 'gini', 'max_depth': 3, 'min_samples_leaf': 32, 'min_samples_split': 32}\n",
            "78.67263337284332\n"
          ]
        }
      ],
      "source": [
        "print(busca.best_params_)\n",
        "print(busca.best_score_ * 100)"
      ]
    },
    {
      "cell_type": "code",
      "execution_count": 49,
      "metadata": {},
      "outputs": [
        {
          "name": "stdout",
          "output_type": "stream",
          "text": [
            "DecisionTreeClassifier(max_depth=3, min_samples_leaf=32, min_samples_split=32)\n"
          ]
        }
      ],
      "source": [
        "print(busca.best_estimator_)\n",
        "melhor = busca.best_estimator_"
      ]
    },
    {
      "cell_type": "code",
      "execution_count": 51,
      "metadata": {},
      "outputs": [
        {
          "name": "stdout",
          "output_type": "stream",
          "text": [
            "78.75\n"
          ]
        }
      ],
      "source": [
        "from sklearn.metrics import accuracy_score\n",
        "\n",
        "#evitar abordagem otimista abaixo\n",
        "\n",
        "predicoes = melhor.predict(x_azar)\n",
        "accuracy = accuracy_score(predicoes, y_azar)\n",
        "print(accuracy*100)"
      ]
    },
    {
      "cell_type": "markdown",
      "metadata": {},
      "source": [
        "# como ter uma estimativa sem vício\n",
        "\n",
        "Em cross validation com busca de hiper parâmetros, é necessário uma nova validação cruzada"
      ]
    },
    {
      "cell_type": "code",
      "execution_count": 52,
      "metadata": {},
      "outputs": [
        {
          "ename": "ValueError",
          "evalue": "\nAll the 10 fits failed.\nIt is very likely that your model is misconfigured.\nYou can try to debug the error by setting error_score='raise'.\n\nBelow are more details about the failures:\n--------------------------------------------------------------------------------\n10 fits failed with the following error:\nTraceback (most recent call last):\n  File \"/home/nathan/.local/lib/python3.10/site-packages/sklearn/model_selection/_validation.py\", line 686, in _fit_and_score\n    estimator.fit(X_train, y_train, **fit_params)\n  File \"/home/nathan/.local/lib/python3.10/site-packages/sklearn/model_selection/_search.py\", line 875, in fit\n    self._run_search(evaluate_candidates)\n  File \"/home/nathan/.local/lib/python3.10/site-packages/sklearn/model_selection/_search.py\", line 1375, in _run_search\n    evaluate_candidates(ParameterGrid(self.param_grid))\n  File \"/home/nathan/.local/lib/python3.10/site-packages/sklearn/model_selection/_search.py\", line 834, in evaluate_candidates\n    for (cand_idx, parameters), (split_idx, (train, test)) in product(\n  File \"/home/nathan/.local/lib/python3.10/site-packages/sklearn/model_selection/_split.py\", line 340, in split\n    for train, test in super().split(X, y, groups):\n  File \"/home/nathan/.local/lib/python3.10/site-packages/sklearn/model_selection/_split.py\", line 86, in split\n    for test_index in self._iter_test_masks(X, y, groups):\n  File \"/home/nathan/.local/lib/python3.10/site-packages/sklearn/model_selection/_split.py\", line 98, in _iter_test_masks\n    for test_index in self._iter_test_indices(X, y, groups):\n  File \"/home/nathan/.local/lib/python3.10/site-packages/sklearn/model_selection/_split.py\", line 514, in _iter_test_indices\n    raise ValueError(\"The 'groups' parameter should not be None.\")\nValueError: The 'groups' parameter should not be None.\n",
          "output_type": "error",
          "traceback": [
            "\u001b[0;31m---------------------------------------------------------------------------\u001b[0m",
            "\u001b[0;31mValueError\u001b[0m                                Traceback (most recent call last)",
            "\u001b[1;32m/home/nathan/Github/estudos-data-science/machine-learning-hyperparameter-optimization/Introdução_a_Machine_Learning_Otimização.ipynb Cell 32'\u001b[0m in \u001b[0;36m<cell line: 3>\u001b[0;34m()\u001b[0m\n\u001b[1;32m      <a href='vscode-notebook-cell:/home/nathan/Github/estudos-data-science/machine-learning-hyperparameter-optimization/Introdu%C3%A7%C3%A3o_a_Machine_Learning_Otimiza%C3%A7%C3%A3o.ipynb#ch0000038?line=0'>1</a>\u001b[0m \u001b[39mfrom\u001b[39;00m \u001b[39msklearn\u001b[39;00m\u001b[39m.\u001b[39;00m\u001b[39mmodel_selection\u001b[39;00m \u001b[39mimport\u001b[39;00m cross_val_score\n\u001b[0;32m----> <a href='vscode-notebook-cell:/home/nathan/Github/estudos-data-science/machine-learning-hyperparameter-optimization/Introdu%C3%A7%C3%A3o_a_Machine_Learning_Otimiza%C3%A7%C3%A3o.ipynb#ch0000038?line=2'>3</a>\u001b[0m scores \u001b[39m=\u001b[39m cross_val_score(busca, x_azar, y_azar, cv \u001b[39m=\u001b[39;49m GroupKFold(n_splits \u001b[39m=\u001b[39;49m \u001b[39m10\u001b[39;49m), groups \u001b[39m=\u001b[39;49m dados\u001b[39m.\u001b[39;49mmodelo)\n",
            "File \u001b[0;32m~/.local/lib/python3.10/site-packages/sklearn/model_selection/_validation.py:515\u001b[0m, in \u001b[0;36mcross_val_score\u001b[0;34m(estimator, X, y, groups, scoring, cv, n_jobs, verbose, fit_params, pre_dispatch, error_score)\u001b[0m\n\u001b[1;32m    <a href='file:///home/nathan/.local/lib/python3.10/site-packages/sklearn/model_selection/_validation.py?line=511'>512</a>\u001b[0m \u001b[39m# To ensure multimetric format is not supported\u001b[39;00m\n\u001b[1;32m    <a href='file:///home/nathan/.local/lib/python3.10/site-packages/sklearn/model_selection/_validation.py?line=512'>513</a>\u001b[0m scorer \u001b[39m=\u001b[39m check_scoring(estimator, scoring\u001b[39m=\u001b[39mscoring)\n\u001b[0;32m--> <a href='file:///home/nathan/.local/lib/python3.10/site-packages/sklearn/model_selection/_validation.py?line=514'>515</a>\u001b[0m cv_results \u001b[39m=\u001b[39m cross_validate(\n\u001b[1;32m    <a href='file:///home/nathan/.local/lib/python3.10/site-packages/sklearn/model_selection/_validation.py?line=515'>516</a>\u001b[0m     estimator\u001b[39m=\u001b[39;49mestimator,\n\u001b[1;32m    <a href='file:///home/nathan/.local/lib/python3.10/site-packages/sklearn/model_selection/_validation.py?line=516'>517</a>\u001b[0m     X\u001b[39m=\u001b[39;49mX,\n\u001b[1;32m    <a href='file:///home/nathan/.local/lib/python3.10/site-packages/sklearn/model_selection/_validation.py?line=517'>518</a>\u001b[0m     y\u001b[39m=\u001b[39;49my,\n\u001b[1;32m    <a href='file:///home/nathan/.local/lib/python3.10/site-packages/sklearn/model_selection/_validation.py?line=518'>519</a>\u001b[0m     groups\u001b[39m=\u001b[39;49mgroups,\n\u001b[1;32m    <a href='file:///home/nathan/.local/lib/python3.10/site-packages/sklearn/model_selection/_validation.py?line=519'>520</a>\u001b[0m     scoring\u001b[39m=\u001b[39;49m{\u001b[39m\"\u001b[39;49m\u001b[39mscore\u001b[39;49m\u001b[39m\"\u001b[39;49m: scorer},\n\u001b[1;32m    <a href='file:///home/nathan/.local/lib/python3.10/site-packages/sklearn/model_selection/_validation.py?line=520'>521</a>\u001b[0m     cv\u001b[39m=\u001b[39;49mcv,\n\u001b[1;32m    <a href='file:///home/nathan/.local/lib/python3.10/site-packages/sklearn/model_selection/_validation.py?line=521'>522</a>\u001b[0m     n_jobs\u001b[39m=\u001b[39;49mn_jobs,\n\u001b[1;32m    <a href='file:///home/nathan/.local/lib/python3.10/site-packages/sklearn/model_selection/_validation.py?line=522'>523</a>\u001b[0m     verbose\u001b[39m=\u001b[39;49mverbose,\n\u001b[1;32m    <a href='file:///home/nathan/.local/lib/python3.10/site-packages/sklearn/model_selection/_validation.py?line=523'>524</a>\u001b[0m     fit_params\u001b[39m=\u001b[39;49mfit_params,\n\u001b[1;32m    <a href='file:///home/nathan/.local/lib/python3.10/site-packages/sklearn/model_selection/_validation.py?line=524'>525</a>\u001b[0m     pre_dispatch\u001b[39m=\u001b[39;49mpre_dispatch,\n\u001b[1;32m    <a href='file:///home/nathan/.local/lib/python3.10/site-packages/sklearn/model_selection/_validation.py?line=525'>526</a>\u001b[0m     error_score\u001b[39m=\u001b[39;49merror_score,\n\u001b[1;32m    <a href='file:///home/nathan/.local/lib/python3.10/site-packages/sklearn/model_selection/_validation.py?line=526'>527</a>\u001b[0m )\n\u001b[1;32m    <a href='file:///home/nathan/.local/lib/python3.10/site-packages/sklearn/model_selection/_validation.py?line=527'>528</a>\u001b[0m \u001b[39mreturn\u001b[39;00m cv_results[\u001b[39m\"\u001b[39m\u001b[39mtest_score\u001b[39m\u001b[39m\"\u001b[39m]\n",
            "File \u001b[0;32m~/.local/lib/python3.10/site-packages/sklearn/model_selection/_validation.py:285\u001b[0m, in \u001b[0;36mcross_validate\u001b[0;34m(estimator, X, y, groups, scoring, cv, n_jobs, verbose, fit_params, pre_dispatch, return_train_score, return_estimator, error_score)\u001b[0m\n\u001b[1;32m    <a href='file:///home/nathan/.local/lib/python3.10/site-packages/sklearn/model_selection/_validation.py?line=264'>265</a>\u001b[0m parallel \u001b[39m=\u001b[39m Parallel(n_jobs\u001b[39m=\u001b[39mn_jobs, verbose\u001b[39m=\u001b[39mverbose, pre_dispatch\u001b[39m=\u001b[39mpre_dispatch)\n\u001b[1;32m    <a href='file:///home/nathan/.local/lib/python3.10/site-packages/sklearn/model_selection/_validation.py?line=265'>266</a>\u001b[0m results \u001b[39m=\u001b[39m parallel(\n\u001b[1;32m    <a href='file:///home/nathan/.local/lib/python3.10/site-packages/sklearn/model_selection/_validation.py?line=266'>267</a>\u001b[0m     delayed(_fit_and_score)(\n\u001b[1;32m    <a href='file:///home/nathan/.local/lib/python3.10/site-packages/sklearn/model_selection/_validation.py?line=267'>268</a>\u001b[0m         clone(estimator),\n\u001b[0;32m   (...)\u001b[0m\n\u001b[1;32m    <a href='file:///home/nathan/.local/lib/python3.10/site-packages/sklearn/model_selection/_validation.py?line=281'>282</a>\u001b[0m     \u001b[39mfor\u001b[39;00m train, test \u001b[39min\u001b[39;00m cv\u001b[39m.\u001b[39msplit(X, y, groups)\n\u001b[1;32m    <a href='file:///home/nathan/.local/lib/python3.10/site-packages/sklearn/model_selection/_validation.py?line=282'>283</a>\u001b[0m )\n\u001b[0;32m--> <a href='file:///home/nathan/.local/lib/python3.10/site-packages/sklearn/model_selection/_validation.py?line=284'>285</a>\u001b[0m _warn_or_raise_about_fit_failures(results, error_score)\n\u001b[1;32m    <a href='file:///home/nathan/.local/lib/python3.10/site-packages/sklearn/model_selection/_validation.py?line=286'>287</a>\u001b[0m \u001b[39m# For callabe scoring, the return type is only know after calling. If the\u001b[39;00m\n\u001b[1;32m    <a href='file:///home/nathan/.local/lib/python3.10/site-packages/sklearn/model_selection/_validation.py?line=287'>288</a>\u001b[0m \u001b[39m# return type is a dictionary, the error scores can now be inserted with\u001b[39;00m\n\u001b[1;32m    <a href='file:///home/nathan/.local/lib/python3.10/site-packages/sklearn/model_selection/_validation.py?line=288'>289</a>\u001b[0m \u001b[39m# the correct key.\u001b[39;00m\n\u001b[1;32m    <a href='file:///home/nathan/.local/lib/python3.10/site-packages/sklearn/model_selection/_validation.py?line=289'>290</a>\u001b[0m \u001b[39mif\u001b[39;00m callable(scoring):\n",
            "File \u001b[0;32m~/.local/lib/python3.10/site-packages/sklearn/model_selection/_validation.py:367\u001b[0m, in \u001b[0;36m_warn_or_raise_about_fit_failures\u001b[0;34m(results, error_score)\u001b[0m\n\u001b[1;32m    <a href='file:///home/nathan/.local/lib/python3.10/site-packages/sklearn/model_selection/_validation.py?line=359'>360</a>\u001b[0m \u001b[39mif\u001b[39;00m num_failed_fits \u001b[39m==\u001b[39m num_fits:\n\u001b[1;32m    <a href='file:///home/nathan/.local/lib/python3.10/site-packages/sklearn/model_selection/_validation.py?line=360'>361</a>\u001b[0m     all_fits_failed_message \u001b[39m=\u001b[39m (\n\u001b[1;32m    <a href='file:///home/nathan/.local/lib/python3.10/site-packages/sklearn/model_selection/_validation.py?line=361'>362</a>\u001b[0m         \u001b[39mf\u001b[39m\u001b[39m\"\u001b[39m\u001b[39m\\n\u001b[39;00m\u001b[39mAll the \u001b[39m\u001b[39m{\u001b[39;00mnum_fits\u001b[39m}\u001b[39;00m\u001b[39m fits failed.\u001b[39m\u001b[39m\\n\u001b[39;00m\u001b[39m\"\u001b[39m\n\u001b[1;32m    <a href='file:///home/nathan/.local/lib/python3.10/site-packages/sklearn/model_selection/_validation.py?line=362'>363</a>\u001b[0m         \u001b[39m\"\u001b[39m\u001b[39mIt is very likely that your model is misconfigured.\u001b[39m\u001b[39m\\n\u001b[39;00m\u001b[39m\"\u001b[39m\n\u001b[1;32m    <a href='file:///home/nathan/.local/lib/python3.10/site-packages/sklearn/model_selection/_validation.py?line=363'>364</a>\u001b[0m         \u001b[39m\"\u001b[39m\u001b[39mYou can try to debug the error by setting error_score=\u001b[39m\u001b[39m'\u001b[39m\u001b[39mraise\u001b[39m\u001b[39m'\u001b[39m\u001b[39m.\u001b[39m\u001b[39m\\n\u001b[39;00m\u001b[39m\\n\u001b[39;00m\u001b[39m\"\u001b[39m\n\u001b[1;32m    <a href='file:///home/nathan/.local/lib/python3.10/site-packages/sklearn/model_selection/_validation.py?line=364'>365</a>\u001b[0m         \u001b[39mf\u001b[39m\u001b[39m\"\u001b[39m\u001b[39mBelow are more details about the failures:\u001b[39m\u001b[39m\\n\u001b[39;00m\u001b[39m{\u001b[39;00mfit_errors_summary\u001b[39m}\u001b[39;00m\u001b[39m\"\u001b[39m\n\u001b[1;32m    <a href='file:///home/nathan/.local/lib/python3.10/site-packages/sklearn/model_selection/_validation.py?line=365'>366</a>\u001b[0m     )\n\u001b[0;32m--> <a href='file:///home/nathan/.local/lib/python3.10/site-packages/sklearn/model_selection/_validation.py?line=366'>367</a>\u001b[0m     \u001b[39mraise\u001b[39;00m \u001b[39mValueError\u001b[39;00m(all_fits_failed_message)\n\u001b[1;32m    <a href='file:///home/nathan/.local/lib/python3.10/site-packages/sklearn/model_selection/_validation.py?line=368'>369</a>\u001b[0m \u001b[39melse\u001b[39;00m:\n\u001b[1;32m    <a href='file:///home/nathan/.local/lib/python3.10/site-packages/sklearn/model_selection/_validation.py?line=369'>370</a>\u001b[0m     some_fits_failed_message \u001b[39m=\u001b[39m (\n\u001b[1;32m    <a href='file:///home/nathan/.local/lib/python3.10/site-packages/sklearn/model_selection/_validation.py?line=370'>371</a>\u001b[0m         \u001b[39mf\u001b[39m\u001b[39m\"\u001b[39m\u001b[39m\\n\u001b[39;00m\u001b[39m{\u001b[39;00mnum_failed_fits\u001b[39m}\u001b[39;00m\u001b[39m fits failed out of a total of \u001b[39m\u001b[39m{\u001b[39;00mnum_fits\u001b[39m}\u001b[39;00m\u001b[39m.\u001b[39m\u001b[39m\\n\u001b[39;00m\u001b[39m\"\u001b[39m\n\u001b[1;32m    <a href='file:///home/nathan/.local/lib/python3.10/site-packages/sklearn/model_selection/_validation.py?line=371'>372</a>\u001b[0m         \u001b[39m\"\u001b[39m\u001b[39mThe score on these train-test partitions for these parameters\u001b[39m\u001b[39m\"\u001b[39m\n\u001b[0;32m   (...)\u001b[0m\n\u001b[1;32m    <a href='file:///home/nathan/.local/lib/python3.10/site-packages/sklearn/model_selection/_validation.py?line=375'>376</a>\u001b[0m         \u001b[39mf\u001b[39m\u001b[39m\"\u001b[39m\u001b[39mBelow are more details about the failures:\u001b[39m\u001b[39m\\n\u001b[39;00m\u001b[39m{\u001b[39;00mfit_errors_summary\u001b[39m}\u001b[39;00m\u001b[39m\"\u001b[39m\n\u001b[1;32m    <a href='file:///home/nathan/.local/lib/python3.10/site-packages/sklearn/model_selection/_validation.py?line=376'>377</a>\u001b[0m     )\n",
            "\u001b[0;31mValueError\u001b[0m: \nAll the 10 fits failed.\nIt is very likely that your model is misconfigured.\nYou can try to debug the error by setting error_score='raise'.\n\nBelow are more details about the failures:\n--------------------------------------------------------------------------------\n10 fits failed with the following error:\nTraceback (most recent call last):\n  File \"/home/nathan/.local/lib/python3.10/site-packages/sklearn/model_selection/_validation.py\", line 686, in _fit_and_score\n    estimator.fit(X_train, y_train, **fit_params)\n  File \"/home/nathan/.local/lib/python3.10/site-packages/sklearn/model_selection/_search.py\", line 875, in fit\n    self._run_search(evaluate_candidates)\n  File \"/home/nathan/.local/lib/python3.10/site-packages/sklearn/model_selection/_search.py\", line 1375, in _run_search\n    evaluate_candidates(ParameterGrid(self.param_grid))\n  File \"/home/nathan/.local/lib/python3.10/site-packages/sklearn/model_selection/_search.py\", line 834, in evaluate_candidates\n    for (cand_idx, parameters), (split_idx, (train, test)) in product(\n  File \"/home/nathan/.local/lib/python3.10/site-packages/sklearn/model_selection/_split.py\", line 340, in split\n    for train, test in super().split(X, y, groups):\n  File \"/home/nathan/.local/lib/python3.10/site-packages/sklearn/model_selection/_split.py\", line 86, in split\n    for test_index in self._iter_test_masks(X, y, groups):\n  File \"/home/nathan/.local/lib/python3.10/site-packages/sklearn/model_selection/_split.py\", line 98, in _iter_test_masks\n    for test_index in self._iter_test_indices(X, y, groups):\n  File \"/home/nathan/.local/lib/python3.10/site-packages/sklearn/model_selection/_split.py\", line 514, in _iter_test_indices\n    raise ValueError(\"The 'groups' parameter should not be None.\")\nValueError: The 'groups' parameter should not be None.\n"
          ]
        }
      ],
      "source": [
        "from sklearn.model_selection import cross_val_score\n",
        "\n",
        "scores = cross_val_score(busca, x_azar, y_azar, cv = GroupKFold(n_splits = 10), groups = dados.modelo)"
      ]
    },
    {
      "cell_type": "markdown",
      "metadata": {},
      "source": [
        "GroupKFold possui bug"
      ]
    },
    {
      "cell_type": "code",
      "execution_count": 53,
      "metadata": {},
      "outputs": [
        {
          "data": {
            "text/html": [
              "<div>\n",
              "<style scoped>\n",
              "    .dataframe tbody tr th:only-of-type {\n",
              "        vertical-align: middle;\n",
              "    }\n",
              "\n",
              "    .dataframe tbody tr th {\n",
              "        vertical-align: top;\n",
              "    }\n",
              "\n",
              "    .dataframe thead th {\n",
              "        text-align: right;\n",
              "    }\n",
              "</style>\n",
              "<table border=\"1\" class=\"dataframe\">\n",
              "  <thead>\n",
              "    <tr style=\"text-align: right;\">\n",
              "      <th></th>\n",
              "      <th>mean_fit_time</th>\n",
              "      <th>std_fit_time</th>\n",
              "      <th>mean_score_time</th>\n",
              "      <th>std_score_time</th>\n",
              "      <th>param_criterion</th>\n",
              "      <th>param_max_depth</th>\n",
              "      <th>param_min_samples_leaf</th>\n",
              "      <th>param_min_samples_split</th>\n",
              "      <th>params</th>\n",
              "      <th>split0_test_score</th>\n",
              "      <th>...</th>\n",
              "      <th>split3_test_score</th>\n",
              "      <th>split4_test_score</th>\n",
              "      <th>split5_test_score</th>\n",
              "      <th>split6_test_score</th>\n",
              "      <th>split7_test_score</th>\n",
              "      <th>split8_test_score</th>\n",
              "      <th>split9_test_score</th>\n",
              "      <th>mean_test_score</th>\n",
              "      <th>std_test_score</th>\n",
              "      <th>rank_test_score</th>\n",
              "    </tr>\n",
              "  </thead>\n",
              "  <tbody>\n",
              "    <tr>\n",
              "      <th>0</th>\n",
              "      <td>0.014869</td>\n",
              "      <td>0.001487</td>\n",
              "      <td>0.002648</td>\n",
              "      <td>0.000404</td>\n",
              "      <td>gini</td>\n",
              "      <td>3</td>\n",
              "      <td>32</td>\n",
              "      <td>32</td>\n",
              "      <td>{'criterion': 'gini', 'max_depth': 3, 'min_sam...</td>\n",
              "      <td>0.767</td>\n",
              "      <td>...</td>\n",
              "      <td>0.774</td>\n",
              "      <td>0.813</td>\n",
              "      <td>0.792</td>\n",
              "      <td>0.796</td>\n",
              "      <td>0.79</td>\n",
              "      <td>0.78</td>\n",
              "      <td>0.779</td>\n",
              "      <td>0.787</td>\n",
              "      <td>0.013229</td>\n",
              "      <td>1</td>\n",
              "    </tr>\n",
              "    <tr>\n",
              "      <th>1</th>\n",
              "      <td>0.010686</td>\n",
              "      <td>0.001534</td>\n",
              "      <td>0.001654</td>\n",
              "      <td>0.000294</td>\n",
              "      <td>gini</td>\n",
              "      <td>3</td>\n",
              "      <td>32</td>\n",
              "      <td>64</td>\n",
              "      <td>{'criterion': 'gini', 'max_depth': 3, 'min_sam...</td>\n",
              "      <td>0.767</td>\n",
              "      <td>...</td>\n",
              "      <td>0.774</td>\n",
              "      <td>0.813</td>\n",
              "      <td>0.792</td>\n",
              "      <td>0.796</td>\n",
              "      <td>0.79</td>\n",
              "      <td>0.78</td>\n",
              "      <td>0.779</td>\n",
              "      <td>0.787</td>\n",
              "      <td>0.013229</td>\n",
              "      <td>1</td>\n",
              "    </tr>\n",
              "    <tr>\n",
              "      <th>2</th>\n",
              "      <td>0.010176</td>\n",
              "      <td>0.000972</td>\n",
              "      <td>0.001817</td>\n",
              "      <td>0.000285</td>\n",
              "      <td>gini</td>\n",
              "      <td>3</td>\n",
              "      <td>32</td>\n",
              "      <td>128</td>\n",
              "      <td>{'criterion': 'gini', 'max_depth': 3, 'min_sam...</td>\n",
              "      <td>0.767</td>\n",
              "      <td>...</td>\n",
              "      <td>0.774</td>\n",
              "      <td>0.813</td>\n",
              "      <td>0.792</td>\n",
              "      <td>0.796</td>\n",
              "      <td>0.79</td>\n",
              "      <td>0.78</td>\n",
              "      <td>0.779</td>\n",
              "      <td>0.787</td>\n",
              "      <td>0.013229</td>\n",
              "      <td>1</td>\n",
              "    </tr>\n",
              "    <tr>\n",
              "      <th>3</th>\n",
              "      <td>0.010374</td>\n",
              "      <td>0.001392</td>\n",
              "      <td>0.001681</td>\n",
              "      <td>0.000422</td>\n",
              "      <td>gini</td>\n",
              "      <td>3</td>\n",
              "      <td>64</td>\n",
              "      <td>32</td>\n",
              "      <td>{'criterion': 'gini', 'max_depth': 3, 'min_sam...</td>\n",
              "      <td>0.767</td>\n",
              "      <td>...</td>\n",
              "      <td>0.774</td>\n",
              "      <td>0.813</td>\n",
              "      <td>0.792</td>\n",
              "      <td>0.796</td>\n",
              "      <td>0.79</td>\n",
              "      <td>0.78</td>\n",
              "      <td>0.779</td>\n",
              "      <td>0.787</td>\n",
              "      <td>0.013229</td>\n",
              "      <td>1</td>\n",
              "    </tr>\n",
              "    <tr>\n",
              "      <th>4</th>\n",
              "      <td>0.008448</td>\n",
              "      <td>0.000928</td>\n",
              "      <td>0.001380</td>\n",
              "      <td>0.000218</td>\n",
              "      <td>gini</td>\n",
              "      <td>3</td>\n",
              "      <td>64</td>\n",
              "      <td>64</td>\n",
              "      <td>{'criterion': 'gini', 'max_depth': 3, 'min_sam...</td>\n",
              "      <td>0.767</td>\n",
              "      <td>...</td>\n",
              "      <td>0.774</td>\n",
              "      <td>0.813</td>\n",
              "      <td>0.792</td>\n",
              "      <td>0.796</td>\n",
              "      <td>0.79</td>\n",
              "      <td>0.78</td>\n",
              "      <td>0.779</td>\n",
              "      <td>0.787</td>\n",
              "      <td>0.013229</td>\n",
              "      <td>1</td>\n",
              "    </tr>\n",
              "  </tbody>\n",
              "</table>\n",
              "<p>5 rows × 22 columns</p>\n",
              "</div>"
            ],
            "text/plain": [
              "   mean_fit_time  std_fit_time  mean_score_time  std_score_time  \\\n",
              "0       0.014869      0.001487         0.002648        0.000404   \n",
              "1       0.010686      0.001534         0.001654        0.000294   \n",
              "2       0.010176      0.000972         0.001817        0.000285   \n",
              "3       0.010374      0.001392         0.001681        0.000422   \n",
              "4       0.008448      0.000928         0.001380        0.000218   \n",
              "\n",
              "  param_criterion param_max_depth param_min_samples_leaf  \\\n",
              "0            gini               3                     32   \n",
              "1            gini               3                     32   \n",
              "2            gini               3                     32   \n",
              "3            gini               3                     64   \n",
              "4            gini               3                     64   \n",
              "\n",
              "  param_min_samples_split                                             params  \\\n",
              "0                      32  {'criterion': 'gini', 'max_depth': 3, 'min_sam...   \n",
              "1                      64  {'criterion': 'gini', 'max_depth': 3, 'min_sam...   \n",
              "2                     128  {'criterion': 'gini', 'max_depth': 3, 'min_sam...   \n",
              "3                      32  {'criterion': 'gini', 'max_depth': 3, 'min_sam...   \n",
              "4                      64  {'criterion': 'gini', 'max_depth': 3, 'min_sam...   \n",
              "\n",
              "   split0_test_score  ...  split3_test_score  split4_test_score  \\\n",
              "0              0.767  ...              0.774              0.813   \n",
              "1              0.767  ...              0.774              0.813   \n",
              "2              0.767  ...              0.774              0.813   \n",
              "3              0.767  ...              0.774              0.813   \n",
              "4              0.767  ...              0.774              0.813   \n",
              "\n",
              "   split5_test_score  split6_test_score  split7_test_score  split8_test_score  \\\n",
              "0              0.792              0.796               0.79               0.78   \n",
              "1              0.792              0.796               0.79               0.78   \n",
              "2              0.792              0.796               0.79               0.78   \n",
              "3              0.792              0.796               0.79               0.78   \n",
              "4              0.792              0.796               0.79               0.78   \n",
              "\n",
              "   split9_test_score  mean_test_score  std_test_score  rank_test_score  \n",
              "0              0.779            0.787        0.013229                1  \n",
              "1              0.779            0.787        0.013229                1  \n",
              "2              0.779            0.787        0.013229                1  \n",
              "3              0.779            0.787        0.013229                1  \n",
              "4              0.779            0.787        0.013229                1  \n",
              "\n",
              "[5 rows x 22 columns]"
            ]
          },
          "execution_count": 53,
          "metadata": {},
          "output_type": "execute_result"
        }
      ],
      "source": [
        "from sklearn.model_selection import GridSearchCV, KFold\n",
        "\n",
        "SEED = 301\n",
        "np.random.seed(SEED)\n",
        "\n",
        "espaco_de_parametros = {\n",
        "    \"max_depth\": [3,5],\n",
        "    \"min_samples_split\": [32,64,128],\n",
        "    \"min_samples_leaf\": [32,64,128],\n",
        "    \"criterion\": [\"gini\",\"entropy\"]\n",
        "}\n",
        "\n",
        "busca = GridSearchCV(DecisionTreeClassifier(), espaco_de_parametros, cv = KFold(n_splits = 10, shuffle = True))\n",
        "\n",
        "busca.fit(x_azar, y_azar)\n",
        "\n",
        "resultados = pd.DataFrame(busca.cv_results_)\n",
        "resultados.head()"
      ]
    },
    {
      "cell_type": "code",
      "execution_count": 54,
      "metadata": {},
      "outputs": [],
      "source": [
        "from sklearn.model_selection import cross_val_score\n",
        "\n",
        "scores = cross_val_score(busca, x_azar, y_azar, cv = KFold(n_splits = 10, shuffle = True))"
      ]
    },
    {
      "cell_type": "code",
      "execution_count": 56,
      "metadata": {},
      "outputs": [
        {
          "name": "stdout",
          "output_type": "stream",
          "text": [
            "media 78.69\n",
            "desvio padrão 1.279413928328122\n"
          ]
        }
      ],
      "source": [
        "def imprime_score(scores):\n",
        "    media = scores.mean() * 100\n",
        "    desvio = scores.std() * 100\n",
        "    print(f\"media {media}\")\n",
        "    print(f\"desvio padrão {desvio}\")\n",
        "    \n",
        "imprime_score(scores)"
      ]
    }
  ],
  "metadata": {
    "colab": {
      "collapsed_sections": [],
      "name": "Introdução_a_Machine_Learning_Otimização.ipynb",
      "provenance": [],
      "version": "0.3.2"
    },
    "interpreter": {
      "hash": "e7370f93d1d0cde622a1f8e1c04877d8463912d04d973331ad4851f04de6915a"
    },
    "kernelspec": {
      "display_name": "Python 3.10.4 64-bit",
      "language": "python",
      "name": "python3"
    },
    "language_info": {
      "codemirror_mode": {
        "name": "ipython",
        "version": 3
      },
      "file_extension": ".py",
      "mimetype": "text/x-python",
      "name": "python",
      "nbconvert_exporter": "python",
      "pygments_lexer": "ipython3",
      "version": "3.10.4"
    }
  },
  "nbformat": 4,
  "nbformat_minor": 0
}
