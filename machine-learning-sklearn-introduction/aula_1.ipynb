{
 "cells": [
  {
   "cell_type": "code",
   "execution_count": 26,
   "id": "228e7d3b-e66a-4c9d-8488-2d35b550d91a",
   "metadata": {},
   "outputs": [],
   "source": [
    "# features (1 sim, 0 não)\n",
    "# pelo longo?\n",
    "# perna curta?\n",
    "#faz auau?\n",
    "porco1 = [0,1,0]\n",
    "porco2 = [0,1,1]\n",
    "porco3 = [1,1,0]\n",
    "\n",
    "cachorro1 = [0,1,1]\n",
    "cachorro2 = [1,0,1]\n",
    "cachorro3 = [1,1,1]\n",
    "\n",
    "treino_x = [porco1, porco2, porco3, cachorro1, cachorro2, cachorro3]\n",
    "treino_y = [1,1,1,0,0,0] #1=>porco, 0=>cachorro"
   ]
  },
  {
   "cell_type": "code",
   "execution_count": 27,
   "id": "2f419432-fbb6-4ee9-925c-72c4d478c466",
   "metadata": {},
   "outputs": [],
   "source": [
    "from sklearn.svm import LinearSVC"
   ]
  },
  {
   "cell_type": "code",
   "execution_count": 28,
   "id": "a1c89afb-63b4-4dfe-b780-8b35886aa7a7",
   "metadata": {},
   "outputs": [
    {
     "data": {
      "text/plain": [
       "LinearSVC()"
      ]
     },
     "execution_count": 28,
     "metadata": {},
     "output_type": "execute_result"
    }
   ],
   "source": [
    "model = LinearSVC()\n",
    "model.fit(dados, classes)"
   ]
  },
  {
   "cell_type": "code",
   "execution_count": 29,
   "id": "f1dc97ef-8a8a-48cd-a9e2-026a23733711",
   "metadata": {},
   "outputs": [
    {
     "data": {
      "text/plain": [
       "array([0])"
      ]
     },
     "execution_count": 29,
     "metadata": {},
     "output_type": "execute_result"
    }
   ],
   "source": [
    "animal_misterioso = [1,1,1]\n",
    "model.predict([animal_misterioso])"
   ]
  },
  {
   "cell_type": "code",
   "execution_count": 35,
   "id": "0eaf6936-c635-4c21-8c77-ae7567346628",
   "metadata": {},
   "outputs": [],
   "source": [
    "misterio1 = [1,1,1]\n",
    "misterio2 = [1,1,0]\n",
    "misterio3 = [0,1,1]\n",
    "\n",
    "teste_x = [misterio1, misterio2, misterio3]\n",
    "teste_y = [0,1,1]\n",
    "previsoes = model.predict(teste_x)"
   ]
  },
  {
   "cell_type": "code",
   "execution_count": 36,
   "id": "0b6b2840-72fa-40ae-a799-7a54120b6750",
   "metadata": {},
   "outputs": [
    {
     "data": {
      "text/plain": [
       "array([0, 1, 0])"
      ]
     },
     "execution_count": 36,
     "metadata": {},
     "output_type": "execute_result"
    }
   ],
   "source": [
    "previsoes"
   ]
  },
  {
   "cell_type": "code",
   "execution_count": 33,
   "id": "02c258a0-2f55-4740-a64d-00def362acc2",
   "metadata": {},
   "outputs": [
    {
     "name": "stdout",
     "output_type": "stream",
     "text": [
      "Taxa de acerto:  66.66666666666666 %\n"
     ]
    }
   ],
   "source": [
    "corretos = (previsoes == teste_y).sum()\n",
    "total = len(treino_x)\n",
    "taxa_de_acerto = corretos/total\n",
    "print(\"Taxa de acerto: \", taxa_de_acerto*100,\"%\")"
   ]
  },
  {
   "cell_type": "code",
   "execution_count": 34,
   "id": "398d6865-1b93-4aaf-b798-b2a0334ebc4a",
   "metadata": {},
   "outputs": [
    {
     "name": "stdout",
     "output_type": "stream",
     "text": [
      "Taxa de acerto 66.66666666666666\n"
     ]
    }
   ],
   "source": [
    "from sklearn.metrics import accuracy_score\n",
    "\n",
    "taxa_de_acerto = accuracy_score(teste_y, previsoes)\n",
    "print(\"Taxa de acerto\",taxa_de_acerto*100)"
   ]
  }
 ],
 "metadata": {
  "kernelspec": {
   "display_name": "Python 3",
   "language": "python",
   "name": "python3"
  },
  "language_info": {
   "codemirror_mode": {
    "name": "ipython",
    "version": 3
   },
   "file_extension": ".py",
   "mimetype": "text/x-python",
   "name": "python",
   "nbconvert_exporter": "python",
   "pygments_lexer": "ipython3",
   "version": "3.8.8"
  }
 },
 "nbformat": 4,
 "nbformat_minor": 5
}
